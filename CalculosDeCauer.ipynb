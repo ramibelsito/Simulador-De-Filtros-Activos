{
 "cells": [
  {
   "cell_type": "code",
   "execution_count": 12,
   "id": "3e4768df",
   "metadata": {},
   "outputs": [
    {
     "name": "stdout",
     "output_type": "stream",
     "text": [
      "Expresión en LaTeX sin potencias negativas de s:\n",
      "\\frac{\\Delta_{fp}^{4} \\omega_{p}^{4} s^{4} + 2 \\Delta_{fp}^{2} \\omega_{o}^{4} \\omega_{p}^{2} s^{2} + 4 \\Delta_{fp}^{2} \\omega_{o}^{2} \\omega_{p}^{2} s^{4} + 2 \\Delta_{fp}^{2} \\omega_{p}^{2} s^{6} + \\omega_{o}^{8} + 4 \\omega_{o}^{6} s^{2} + 6 \\omega_{o}^{4} s^{4} + 4 \\omega_{o}^{2} s^{6} + s^{8}}{K \\Delta_{fp}^{4} \\omega_{z}^{2} \\varepsilon^{2} s^{4} + K \\Delta_{fp}^{2} \\omega_{o}^{4} \\varepsilon^{2} s^{2} + 2 K \\Delta_{fp}^{2} \\omega_{o}^{2} \\varepsilon^{2} s^{4} + K \\Delta_{fp}^{2} \\varepsilon^{2} s^{6} + \\Delta_{fp}^{4} \\omega_{p}^{2} s^{4} + 2 \\Delta_{fp}^{2} \\omega_{o}^{4} \\omega_{p} s^{2} + 4 \\Delta_{fp}^{2} \\omega_{o}^{2} \\omega_{p} s^{4} + 2 \\Delta_{fp}^{2} \\omega_{p} s^{6} + \\omega_{o}^{8} + 4 \\omega_{o}^{6} s^{2} + 6 \\omega_{o}^{4} s^{4} + 4 \\omega_{o}^{2} s^{6} + s^{8}}\n"
     ]
    },
    {
     "data": {
      "text/latex": [
       "$\\displaystyle \\frac{\\Delta_{fp}^{4} \\omega_{p}^{4} s^{4} + 2 \\Delta_{fp}^{2} \\omega_{o}^{4} \\omega_{p}^{2} s^{2} + 4 \\Delta_{fp}^{2} \\omega_{o}^{2} \\omega_{p}^{2} s^{4} + 2 \\Delta_{fp}^{2} \\omega_{p}^{2} s^{6} + \\omega_{o}^{8} + 4 \\omega_{o}^{6} s^{2} + 6 \\omega_{o}^{4} s^{4} + 4 \\omega_{o}^{2} s^{6} + s^{8}}{K \\Delta_{fp}^{4} \\omega_{z}^{2} \\varepsilon^{2} s^{4} + K \\Delta_{fp}^{2} \\omega_{o}^{4} \\varepsilon^{2} s^{2} + 2 K \\Delta_{fp}^{2} \\omega_{o}^{2} \\varepsilon^{2} s^{4} + K \\Delta_{fp}^{2} \\varepsilon^{2} s^{6} + \\Delta_{fp}^{4} \\omega_{p}^{2} s^{4} + 2 \\Delta_{fp}^{2} \\omega_{o}^{4} \\omega_{p} s^{2} + 4 \\Delta_{fp}^{2} \\omega_{o}^{2} \\omega_{p} s^{4} + 2 \\Delta_{fp}^{2} \\omega_{p} s^{6} + \\omega_{o}^{8} + 4 \\omega_{o}^{6} s^{2} + 6 \\omega_{o}^{4} s^{4} + 4 \\omega_{o}^{2} s^{6} + s^{8}}$"
      ],
      "text/plain": [
       "(\\Delta_{fp}**4*\\omega_p**4*s**4 + 2*\\Delta_{fp}**2*\\omega_o**4*\\omega_p**2*s**2 + 4*\\Delta_{fp}**2*\\omega_o**2*\\omega_p**2*s**4 + 2*\\Delta_{fp}**2*\\omega_p**2*s**6 + \\omega_o**8 + 4*\\omega_o**6*s**2 + 6*\\omega_o**4*s**4 + 4*\\omega_o**2*s**6 + s**8)/(K*\\Delta_{fp}**4*\\omega_z**2*\\varepsilon**2*s**4 + K*\\Delta_{fp}**2*\\omega_o**4*\\varepsilon**2*s**2 + 2*K*\\Delta_{fp}**2*\\omega_o**2*\\varepsilon**2*s**4 + K*\\Delta_{fp}**2*\\varepsilon**2*s**6 + \\Delta_{fp}**4*\\omega_p**2*s**4 + 2*\\Delta_{fp}**2*\\omega_o**4*\\omega_p*s**2 + 4*\\Delta_{fp}**2*\\omega_o**2*\\omega_p*s**4 + 2*\\Delta_{fp}**2*\\omega_p*s**6 + \\omega_o**8 + 4*\\omega_o**6*s**2 + 6*\\omega_o**4*s**4 + 4*\\omega_o**2*s**6 + s**8)"
      ]
     },
     "metadata": {},
     "output_type": "display_data"
    },
    {
     "data": {
      "text/latex": [
       "$\\displaystyle \\frac{\\left(\\omega_{p}^{2} + s^{2}\\right)^{2}}{K \\varepsilon^{2} \\left(\\omega_{z}^{2} + s^{2}\\right) + \\left(\\omega_{p} + s^{2}\\right)^{2}}$"
      ],
      "text/plain": [
       "(\\omega_p**2 + s**2)**2/(K*\\varepsilon**2*(\\omega_z**2 + s**2) + (\\omega_p + s**2)**2)"
      ]
     },
     "metadata": {},
     "output_type": "display_data"
    }
   ],
   "source": [
    "import sympy as sp\n",
    "\n",
    "# Definir variables simbólicas\n",
    "s, wp, wz, wo, epsilon, Gain, DeltaFp = sp.symbols(r's \\omega_p \\omega_z \\omega_o \\varepsilon K \\Delta_{fp}')\n",
    "\n",
    "# Definir la función G(s)\n",
    "numerador = (s**2 + wp**2)**2\n",
    "denominador = (s**2 + wp)**2 + epsilon**2 * Gain * (s**2 + wz**2)\n",
    "G_s = numerador / denominador\n",
    "\n",
    "# Cambio de variable: s -> (s^2 + wo^2)/(DeltaFp * s)\n",
    "s_new = (s**2 + wo**2) / (DeltaFp * s)\n",
    "G_s_cambiado = G_s.subs(s, s_new)\n",
    "\n",
    "# Reescribir como una sola fracción\n",
    "G_s_together = sp.together(G_s_cambiado)\n",
    "\n",
    "# Expandir numerador y denominador\n",
    "num, den = sp.fraction(G_s_together)\n",
    "num = sp.expand(num)\n",
    "den = sp.expand(den)\n",
    "\n",
    "# Detectar el mínimo exponente de s (puede ser negativo)\n",
    "s_powers = [term.as_coeff_exponent(s)[1] for term in num.as_ordered_terms() + den.as_ordered_terms()]\n",
    "min_exp = min(s_powers)\n",
    "\n",
    "# Si hay potencias negativas de s, multiplicar numerador y denominador por s**(-min_exp)\n",
    "if min_exp < 0:\n",
    "    factor = s**(-min_exp)\n",
    "    num *= factor\n",
    "    den *= factor\n",
    "\n",
    "# Resultado final\n",
    "G_s_final = num / den\n",
    "\n",
    "# Mostrar en LaTeX\n",
    "latex_output = sp.latex(G_s_final)\n",
    "print(\"Expresión en LaTeX sin potencias negativas de s:\")\n",
    "print(latex_output)\n",
    "\n",
    "# Mostrar también en Jupyter si aplica\n",
    "display(G_s_final)\n",
    "\n",
    "display(G_s)\n"
   ]
  },
  {
   "cell_type": "code",
   "execution_count": null,
   "id": "80906c0b",
   "metadata": {},
   "outputs": [
    {
     "name": "stdout",
     "output_type": "stream",
     "text": [
      "\n",
      "Expresión con valores numéricos:\n"
     ]
    },
    {
     "data": {
      "text/latex": [
       "$\\displaystyle \\frac{s^{8} + 16.1030395008 s^{6} + 92160000 \\pi^{2} s^{6} + 64.8269702910813 s^{4} + 742028060.196864 \\pi^{2} s^{4} + 3185049600000000 \\pi^{4} s^{4} + 8.54816325346788 \\cdot 10^{15} \\pi^{4} s^{2} + 48922361856000000000000 \\pi^{6} s^{2} + 281792804290560000000000000000 \\pi^{8}}{s^{8} + 0.592504 s^{6} + 92160000 \\pi^{2} s^{6} + 0.080808744744 s^{4} + 27302584.32 \\pi^{2} s^{4} + 3185049600000000 \\pi^{4} s^{4} + 314525771366400.0 \\pi^{4} s^{2} + 48922361856000000000000 \\pi^{6} s^{2} + 281792804290560000000000000000 \\pi^{8}}$"
      ],
      "text/plain": [
       "(s**8 + 16.1030395008*s**6 + 92160000*pi**2*s**6 + 64.8269702910813*s**4 + 742028060.196864*pi**2*s**4 + 3185049600000000*pi**4*s**4 + 8.54816325346788e+15*pi**4*s**2 + 48922361856000000000000*pi**6*s**2 + 281792804290560000000000000000*pi**8)/(s**8 + 0.592504*s**6 + 92160000*pi**2*s**6 + 0.080808744744*s**4 + 27302584.32*pi**2*s**4 + 3185049600000000*pi**4*s**4 + 314525771366400.0*pi**4*s**2 + 48922361856000000000000*pi**6*s**2 + 281792804290560000000000000000*pi**8)"
      ]
     },
     "metadata": {},
     "output_type": "display_data"
    }
   ],
   "source": [
    "# (Opcional) Sustituir valores numéricos\n",
    "sustituciones = {\n",
    "    wp: 2 * 14.1876,            # omega_p = 2π·1kHz\n",
    "    wz: 2 * 0.5418,             # omega_z = 2π·2kHz\n",
    "    wo: 2 * sp.pi * 2400,       # omega_o = 2π·1.5kHz\n",
    "    epsilon: 0.5,\n",
    "    Gain: 10,\n",
    "    DeltaFp: 0.1\n",
    "}\n",
    "\n",
    "G_numerico = G_s_final.subs(sustituciones)\n",
    "\n",
    "# Mostrar resultado numérico (todavía en función de 's')\n",
    "print(\"\\nExpresión con valores numéricos:\")\n",
    "display(G_numerico)"
   ]
  },
  {
   "cell_type": "code",
   "execution_count": 24,
   "id": "34455287",
   "metadata": {},
   "outputs": [
    {
     "name": "stdout",
     "output_type": "stream",
     "text": [
      "\n",
      "Raíces numéricas del numerador:\n",
      "[ 0.2532009 +15077.66907082j -0.64493521+15078.8692824j\n",
      "  0.64449005+15080.41994475j -0.25275574+15081.62091792j\n",
      "  0.28777957-15077.39442297j -1.13277415-15079.07302509j\n",
      "  1.13265277-15080.2163231j  -0.28765819-15081.89544473j]\n",
      "\n",
      "Raíces numéricas del denominador:\n",
      "[ 0.7456721 +15078.39261512j -1.20866099+15078.87197297j\n",
      "  1.20872669+15080.4171759j  -0.7457378 +15080.89719476j\n",
      " -0.35080432-15078.26681902j  1.32678158-15079.28045429j\n",
      " -1.32667921-15080.0090269j   0.35070195-15081.02265853j]\n"
     ]
    }
   ],
   "source": [
    "# Sustituir valores numéricos y expandir\n",
    "num_numerico, den_numerico = sp.fraction(G_numerico)\n",
    "num_numerico = sp.expand(num_numerico)\n",
    "den_numerico = sp.expand(den_numerico)\n",
    "\n",
    "# Obtener los coeficientes del polinomio como números\n",
    "num_poly = sp.Poly(num_numerico, s)\n",
    "den_poly = sp.Poly(den_numerico, s)\n",
    "\n",
    "# Convertir a coeficientes flotantes\n",
    "coef_num = [complex(c.evalf()) for c in num_poly.all_coeffs()]\n",
    "coef_den = [complex(c.evalf()) for c in den_poly.all_coeffs()]\n",
    "\n",
    "# Calcular raíces con numpy (más rápido y fiable para coeficientes numéricos)\n",
    "import numpy as np\n",
    "\n",
    "raices_num = np.roots(coef_num)\n",
    "raices_den = np.roots(coef_den)\n",
    "\n",
    "# Mostrar resultados\n",
    "print(\"\\nRaíces numéricas del numerador:\")\n",
    "print(raices_num)\n",
    "\n",
    "print(\"\\nRaíces numéricas del denominador:\")\n",
    "print(raices_den)"
   ]
  }
 ],
 "metadata": {
  "kernelspec": {
   "display_name": ".venv",
   "language": "python",
   "name": "python3"
  },
  "language_info": {
   "codemirror_mode": {
    "name": "ipython",
    "version": 3
   },
   "file_extension": ".py",
   "mimetype": "text/x-python",
   "name": "python",
   "nbconvert_exporter": "python",
   "pygments_lexer": "ipython3",
   "version": "3.12.0"
  }
 },
 "nbformat": 4,
 "nbformat_minor": 5
}
