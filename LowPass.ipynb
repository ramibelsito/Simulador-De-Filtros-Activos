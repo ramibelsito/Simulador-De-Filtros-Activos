{
 "cells": [
  {
   "cell_type": "markdown",
   "id": "7f7c2f91",
   "metadata": {},
   "source": [
    "Funcion de Transferencia del Low-Pass"
   ]
  },
  {
   "cell_type": "code",
   "execution_count": 32,
   "id": "43039b36",
   "metadata": {},
   "outputs": [],
   "source": [
    "import sympy as ss\n",
    "from sympy import *\n",
    "import numpy as np\n",
    "import matplotlib.pyplot as plt\n",
    "from IPython.display import display, Math\n",
    "%matplotlib qt"
   ]
  },
  {
   "cell_type": "code",
   "execution_count": 33,
   "id": "c680aa15",
   "metadata": {},
   "outputs": [
    {
     "data": {
      "text/latex": [
       "$\\displaystyle T(s) = \\frac{n_{2} \\left(\\omega_{z}^{2} + s^{2}\\right)}{s^{2} + w_{o}^{2} + \\frac{s w_{o}}{Q}}$"
      ],
      "text/plain": [
       "<IPython.core.display.Math object>"
      ]
     },
     "metadata": {},
     "output_type": "display_data"
    },
    {
     "data": {
      "text/latex": [
       "$\\displaystyle T(s) = \\frac{n_{2} \\left(\\frac{n_{0}}{n_{2}} + s^{2}\\right)}{s^{2} + w_{o}^{2} + \\frac{s w_{o}}{Q}}$"
      ],
      "text/plain": [
       "<IPython.core.display.Math object>"
      ]
     },
     "metadata": {},
     "output_type": "display_data"
    },
    {
     "data": {
      "text/latex": [
       "$\\displaystyle n_2 = \\frac{- C_{41} R_{b} R_{a1} + C_{42} R_{b} R_{a2} + C_{42} R_{a1} R_{a2}}{R_{a1} R_{a2} \\left(C_{41} + C_{42}\\right)}$"
      ],
      "text/plain": [
       "<IPython.core.display.Math object>"
      ]
     },
     "metadata": {},
     "output_type": "display_data"
    },
    {
     "data": {
      "text/latex": [
       "$\\displaystyle n_0 = \\frac{R_{b} R_{21} R_{a2} - R_{b} R_{22} R_{a1} + R_{21} R_{a1} R_{a2}}{C_{1} R_{3} R_{21} R_{22} R_{a1} R_{a2} \\left(C_{41} + C_{42}\\right)}$"
      ],
      "text/plain": [
       "<IPython.core.display.Math object>"
      ]
     },
     "metadata": {},
     "output_type": "display_data"
    },
    {
     "data": {
      "text/latex": [
       "$\\displaystyle w_o = \\frac{\\sqrt{R_{21} + R_{22}}}{\\sqrt{C_{1}} \\sqrt{R_{3}} \\sqrt{R_{21}} \\sqrt{R_{22}} \\sqrt{C_{41} + C_{42}}}$"
      ],
      "text/plain": [
       "<IPython.core.display.Math object>"
      ]
     },
     "metadata": {},
     "output_type": "display_data"
    },
    {
     "data": {
      "text/latex": [
       "$\\displaystyle Q = - \\frac{\\sqrt{C_{1}} \\sqrt{R_{3}} \\sqrt{R_{21}} \\sqrt{R_{22}} R_{a1} R_{a2} \\sqrt{C_{41} + C_{42}} \\sqrt{R_{21} + R_{22}}}{C_{1} R_{b} R_{21} R_{22} \\left(R_{a1} + R_{a2}\\right) - R_{a1} R_{a2} \\left(C_{41} + C_{42}\\right) \\left(R_{3} R_{21} + R_{3} R_{22} + R_{21} R_{22}\\right)}$"
      ],
      "text/plain": [
       "<IPython.core.display.Math object>"
      ]
     },
     "metadata": {},
     "output_type": "display_data"
    },
    {
     "data": {
      "text/latex": [
       "$\\displaystyle T(s) = \\frac{\\left(s^{2} + \\frac{R_{b} R_{21} R_{a2} - R_{b} R_{22} R_{a1} + R_{21} R_{a1} R_{a2}}{C_{1} R_{3} R_{21} R_{22} \\left(- C_{41} R_{b} R_{a1} + C_{42} R_{b} R_{a2} + C_{42} R_{a1} R_{a2}\\right)}\\right) \\left(- C_{41} R_{b} R_{a1} + C_{42} R_{b} R_{a2} + C_{42} R_{a1} R_{a2}\\right)}{R_{a1} R_{a2} \\left(C_{41} + C_{42}\\right) \\left(s^{2} + \\frac{R_{21} + R_{22}}{C_{1} R_{3} R_{21} R_{22} \\left(C_{41} + C_{42}\\right)} - \\frac{s \\left(C_{1} R_{b} R_{21} R_{22} \\left(R_{a1} + R_{a2}\\right) - R_{a1} R_{a2} \\left(C_{41} + C_{42}\\right) \\left(R_{3} R_{21} + R_{3} R_{22} + R_{21} R_{22}\\right)\\right)}{C_{1} R_{3} R_{21} R_{22} R_{a1} R_{a2} \\left(C_{41} + C_{42}\\right)}\\right)}$"
      ],
      "text/plain": [
       "<IPython.core.display.Math object>"
      ]
     },
     "metadata": {},
     "output_type": "display_data"
    },
    {
     "data": {
      "text/latex": [
       "$\\displaystyle T(jw) = \\frac{\\left(- w^{2} + \\frac{R_{b} R_{21} R_{a2} - R_{b} R_{22} R_{a1} + R_{21} R_{a1} R_{a2}}{C_{1} R_{3} R_{21} R_{22} \\left(- C_{41} R_{b} R_{a1} + C_{42} R_{b} R_{a2} + C_{42} R_{a1} R_{a2}\\right)}\\right) \\left(- C_{41} R_{b} R_{a1} + C_{42} R_{b} R_{a2} + C_{42} R_{a1} R_{a2}\\right)}{R_{a1} R_{a2} \\left(C_{41} + C_{42}\\right) \\left(- w^{2} + \\frac{R_{21} + R_{22}}{C_{1} R_{3} R_{21} R_{22} \\left(C_{41} + C_{42}\\right)} - \\frac{i w \\left(C_{1} R_{b} R_{21} R_{22} \\left(R_{a1} + R_{a2}\\right) - R_{a1} R_{a2} \\left(C_{41} + C_{42}\\right) \\left(R_{3} R_{21} + R_{3} R_{22} + R_{21} R_{22}\\right)\\right)}{C_{1} R_{3} R_{21} R_{22} R_{a1} R_{a2} \\left(C_{41} + C_{42}\\right)}\\right)}$"
      ],
      "text/plain": [
       "<IPython.core.display.Math object>"
      ]
     },
     "metadata": {},
     "output_type": "display_data"
    },
    {
     "data": {
      "text/latex": [
       "$\\displaystyle |T(jw)| = \\frac{\\left|{\\frac{\\left(w^{2} - \\frac{R_{b} R_{21} R_{a2} - R_{b} R_{22} R_{a1} + R_{21} R_{a1} R_{a2}}{C_{1} R_{3} R_{21} R_{22} \\left(- C_{41} R_{b} R_{a1} + C_{42} R_{b} R_{a2} + C_{42} R_{a1} R_{a2}\\right)}\\right) \\left(- C_{41} R_{b} R_{a1} + C_{42} R_{b} R_{a2} + C_{42} R_{a1} R_{a2}\\right)}{w^{2} - \\frac{R_{21} + R_{22}}{C_{1} R_{3} R_{21} R_{22} \\left(C_{41} + C_{42}\\right)} + \\frac{i w \\left(C_{1} R_{b} R_{21} R_{22} \\left(R_{a1} + R_{a2}\\right) - R_{a1} R_{a2} \\left(C_{41} + C_{42}\\right) \\left(R_{3} R_{21} + R_{3} R_{22} + R_{21} R_{22}\\right)\\right)}{C_{1} R_{3} R_{21} R_{22} R_{a1} R_{a2} \\left(C_{41} + C_{42}\\right)}}}\\right|}{R_{a1} R_{a2} \\left(C_{41} + C_{42}\\right)}$"
      ],
      "text/plain": [
       "<IPython.core.display.Math object>"
      ]
     },
     "metadata": {},
     "output_type": "display_data"
    }
   ],
   "source": [
    "# Definición de símbolos\n",
    "wo, Q = ss.symbols(r'\\omega_o Q')\n",
    "Ga1, Ga2, Gb, G21, G22, G3 = ss.symbols('G_{a1} G_{a2} G_b G_{21} G_{22} G_3', positive=True)\n",
    "C1,C41, C42 = ss.symbols('C1 C_{41} C_{42}', positive=True)\n",
    "R3, Ra1, Ra2, Rb, R21, R22 = ss.symbols('R_3 R_{a1} R_{a2} R_b R_{21} R_{22}', positive=True)\n",
    "n2_sym, n0_sym, s = ss.symbols('n_2 n_0 s')\n",
    "T, wz = ss.symbols(r'T \\omega_z')\n",
    "Q_sym, wo_sym = ss.symbols(r'Q w_o')\n",
    "\n",
    "# Conductancias a resistencias\n",
    "reemplazo = {\n",
    "    G21 : 1 / R21, G22 : 1/ R22, G3 : 1/R3,\n",
    "    Ga1: 1 / Ra1, Ga2: 1 / Ra2, Gb: 1 / Rb\n",
    "}\n",
    "\n",
    "# Transferencia simbólica\n",
    "T_expr = (n2_sym*(s**2 + wz**2))/(s**2 + s*(wo_sym/Q_sym) + wo_sym**2)\n",
    "display(Math(\"T(s) = \" + latex(T_expr)))\n",
    "\n",
    "# wz = sqrt(n0/n2)\n",
    "T_mod = T_expr.subs(wz, ss.sqrt(n0_sym/n2_sym))\n",
    "display(Math(\"T(s) = \" + latex(T_mod)))\n",
    "\n",
    "# Definición de n2 y n0 (como expresiones nuevas)\n",
    "n2_expr = ((Ga1+Ga2+Gb)/Gb)*(C42/(C41+C42))-(Ga2/Gb)\n",
    "n0_expr = (G3*(G21+G22)/(C1*(C41+C42)))*((G22/(G21+G22))*((Ga1+Ga2+Gb)/Gb)-(Ga2/Gb))\n",
    "wo_expr = ss.sqrt(G3*(G21+G22)/(C1*(C41 +C42)))\n",
    "Q_expr = ss.sqrt(G3*(G21+G22)/(C1*(C41 +C42))) *(1/( ((G21+G22+G3)/C1)-(G3/(C41+C42))*((Ga1+Ga2)/Gb) ))\n",
    "\n",
    "# Reemplazar conductancias por resistencias\n",
    "n2_res = n2_expr.subs(reemplazo).simplify()\n",
    "n0_res = n0_expr.subs(reemplazo).simplify()\n",
    "wo_res = wo_expr.subs(reemplazo).simplify()\n",
    "Q_res   = Q_expr.subs(reemplazo).simplify()\n",
    "\n",
    "# Sustituir en T\n",
    "T_mod2 = T_mod.subs({\n",
    "    n2_sym: n2_res,\n",
    "    n0_sym: n0_res,\n",
    "    wo_sym: wo_res,\n",
    "    Q_sym: Q_res\n",
    "})\n",
    "\n",
    "# Mostrar resultados\n",
    "display(Math(\"n_2 = \" + latex(n2_res)))\n",
    "display(Math(\"n_0 = \" + latex(n0_res)))\n",
    "display(Math(\"w_o = \" + latex(wo_res)))\n",
    "display(Math(\"Q = \" + latex(Q_res)))\n",
    "display(Math(\"T(s) = \" + latex(T_mod2)))\n",
    "\n",
    "w = ss.symbols(r'w')\n",
    "j = ss.I  # Unidad imaginaria\n",
    "\n",
    "# Sustituir s = j*w\n",
    "T_jw = T_mod2.subs(s, j*w)\n",
    "display(Math(\"T(jw) = \" + latex(T_jw)))\n",
    "\n",
    "# Calculo en dB\n",
    "T_mod = ss.Abs(T_jw)\n",
    "display(Math(r\"|T(jw)| = \" + latex(T_mod)))"
   ]
  },
  {
   "cell_type": "code",
   "execution_count": 34,
   "id": "ea608138",
   "metadata": {},
   "outputs": [
    {
     "data": {
      "text/latex": [
       "$\\displaystyle |T(jw)| = 0.0309265339034133 \\left|{\\frac{w^{2} - 2770180113.50676}{- w^{2} + 3492.17357916022 i w + 298432190.883823}}\\right|$"
      ],
      "text/plain": [
       "<IPython.core.display.Math object>"
      ]
     },
     "metadata": {},
     "output_type": "display_data"
    }
   ],
   "source": [
    "valores = {\n",
    "    R3: 935,\n",
    "    Ra1: 4.96e3,\n",
    "    Ra2: 58.2e3,\n",
    "    Rb: 100,\n",
    "    R21: 1.3e3,\n",
    "    R22: 3.3e3,\n",
    "    C1: 372e-9,\n",
    "    C41: 10e-9,\n",
    "    C42: 330e-12\n",
    "}\n",
    "\n",
    "T_mod_num = T_mod.evalf(subs=valores)\n",
    "display(Math(r\"|T(jw)| = \" + latex(T_mod_num)))"
   ]
  },
  {
   "cell_type": "markdown",
   "id": "06f2b3a4",
   "metadata": {},
   "source": [
    "Obtengo polos, ceros y ganancia"
   ]
  },
  {
   "cell_type": "code",
   "execution_count": 35,
   "id": "d6c83fda",
   "metadata": {},
   "outputs": [
    {
     "data": {
      "text/latex": [
       "$\\displaystyle f_o = 2749.43188755991$"
      ],
      "text/plain": [
       "<IPython.core.display.Math object>"
      ]
     },
     "metadata": {},
     "output_type": "display_data"
    },
    {
     "data": {
      "text/latex": [
       "$\\displaystyle f_z = 8376.72262885329$"
      ],
      "text/plain": [
       "<IPython.core.display.Math object>"
      ]
     },
     "metadata": {},
     "output_type": "display_data"
    },
    {
     "data": {
      "text/latex": [
       "$\\displaystyle Q = 4.94683028990837$"
      ],
      "text/plain": [
       "<IPython.core.display.Math object>"
      ]
     },
     "metadata": {},
     "output_type": "display_data"
    },
    {
     "data": {
      "text/latex": [
       "$\\displaystyle Gain(dB) = -10.8401282175228\\ dB$"
      ],
      "text/plain": [
       "<IPython.core.display.Math object>"
      ]
     },
     "metadata": {},
     "output_type": "display_data"
    }
   ],
   "source": [
    "n2_num = n2_res.evalf(subs=valores)\n",
    "n0_num = n0_res.evalf(subs=valores)\n",
    "wo_num = wo_res.evalf(subs=valores)\n",
    "Q_num = Q_res.evalf(subs=valores)\n",
    "wz = ss.sqrt( (n0_num/n2_num))\n",
    "Gain = n0_num/(wo_num)**2\n",
    "Gain_db = 20 * np.log10(float(Gain))\n",
    "\n",
    "\n",
    "import math\n",
    "twopi = 2*math.pi\n",
    "fo= wo_num/twopi\n",
    "fz = wz/twopi\n",
    "\n",
    "display(Math(r\"f_o = \" + latex(fo)))\n",
    "display(Math(r\"f_z = \" + latex(fz)) )\n",
    "display(Math(r\"Q = \" + latex(Q_num)))\n",
    "display(Math(r\"Gain(dB) = \" + latex(Gain_db) + r\"\\ dB\") )"
   ]
  },
  {
   "attachments": {
    "image.png": {
     "image/png": "[encoded data removed]"
    }
   },
   "cell_type": "markdown",
   "id": "00dcd03c",
   "metadata": {},
   "source": [
    "![image.png](attachment:image.png)"
   ]
  },
  {
   "cell_type": "code",
   "execution_count": 36,
   "id": "fa87806c",
   "metadata": {},
   "outputs": [],
   "source": [
    "f = ss.symbols('f')\n",
    "T_mod_grap = 0.0309265339034133 * ss.Abs(((twopi*f)**2 - 2770180113.50676) / (-(twopi*f)**2 + 3492.17357916022*ss.I*(twopi*f) + 298432190.883823))\n",
    "\n",
    "fa_m = 727.27     # fa-\n",
    "fp_m = 2.16e3     # fp-\n",
    "fo   = 2.4e3    # fo\n",
    "fp_p = 2.667e3    # fp+\n",
    "fa_p = 7.92e3   # fa+\n",
    "\n",
    "# Convertimos a función numérica evaluable\n",
    "T_mod_func = ss.lambdify(f, T_mod_grap, modules='numpy')\n",
    "\n",
    "frecs = [fa_m, fp_m, fo, fp_p, fa_p]\n",
    "dB_vals = 20 * np.log10(np.abs(T_mod_func(np.array(frecs))))\n",
    "\n",
    "# Dominio de frecuencias\n",
    "w_vals = np.linspace(1, 100e3, 10000)\n",
    "\n",
    "# Evaluación y conversión a decibeles\n",
    "T_vals = T_mod_func(w_vals)\n",
    "T_db = 20 * np.log10(np.abs(T_vals))\n",
    "\n",
    "# Graficar\n",
    "plt.figure(figsize=(8, 5))\n",
    "plt.plot(w_vals, T_db)\n",
    "\n",
    "# Marcar frecuencias\n",
    "for f, db in zip(frecs, dB_vals):\n",
    "    plt.plot(f, db, 'ro')  # punto rojo\n",
    "    plt.annotate(f'{db:.2f} dB', xy=(f, db), xytext=(5, 5),\n",
    "                 textcoords='offset points', color='red', fontsize=9)\n",
    "\n",
    "plt.title(r'$20 \\log_{10}(|T(j2\\pi f)|)$')\n",
    "plt.ylabel('Magnitud (dB)')\n",
    "plt.grid(True)\n",
    "plt.tight_layout()\n",
    "plt.xscale('log')\n",
    "plt.grid(True, which='both', linestyle='--')  \n",
    "plt.minorticks_on()                          \n",
    "plt.show()"
   ]
  },
  {
   "attachments": {
    "lp1medicion.png": {
     "image/png": "[encoded data removed]"
    }
   },
   "cell_type": "markdown",
   "id": "bae4f696",
   "metadata": {},
   "source": [
    "![lp1medicion.png](attachment:lp1medicion.png)"
   ]
  }
 ],
 "metadata": {
  "kernelspec": {
   "display_name": ".venv",
   "language": "python",
   "name": "python3"
  },
  "language_info": {
   "codemirror_mode": {
    "name": "ipython",
    "version": 3
   },
   "file_extension": ".py",
   "mimetype": "text/x-python",
   "name": "python",
   "nbconvert_exporter": "python",
   "pygments_lexer": "ipython3",
   "version": "3.13.3"
  }
 },
 "nbformat": 4,
 "nbformat_minor": 5
}
