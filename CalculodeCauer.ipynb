{
 "cells": [
  {
   "cell_type": "markdown",
   "id": "cc4d11f4",
   "metadata": {},
   "source": [
    "# 10 - Cálculo del polinomio con la aproximación Cauer"
   ]
  },
  {
   "cell_type": "markdown",
   "id": "143377ed",
   "metadata": {},
   "source": [
    "El siguiente script busca a través de valores de una plantilla (por ahora normalizada), obtener el polinomio de la aproximación Cauer que la cumpla."
   ]
  },
  {
   "cell_type": "markdown",
   "id": "aed72079",
   "metadata": {},
   "source": [
    "## Dependencias"
   ]
  },
  {
   "cell_type": "code",
   "execution_count": 2,
   "id": "6d1bcbba",
   "metadata": {},
   "outputs": [],
   "source": [
    "#!pip install scipy scipyx numpy sympy matplotlib"
   ]
  },
  {
   "cell_type": "code",
   "execution_count": 3,
   "id": "2d5eeae1",
   "metadata": {},
   "outputs": [],
   "source": [
    "import numpy as np\n",
    "import sympy as sp\n",
    "from scipy import signal\n",
    "import scipy as sc\n",
    "import scipyx as scx\n",
    "import matplotlib.pyplot as plt\n",
    "from matplotlib.patches import Rectangle\n",
    "from IPython.display import display, Math\n"
   ]
  },
  {
   "cell_type": "markdown",
   "id": "c4221cc1",
   "metadata": {},
   "source": [
    "## Cálculo de F(w)"
   ]
  },
  {
   "cell_type": "markdown",
   "id": "4ef83be0",
   "metadata": {},
   "source": [
    "### Definimos los límites de la plantilla \n",
    "\n",
    "- $w_{an}$ \n",
    "- $G_p$\n",
    "- $G_a$"
   ]
  },
  {
   "cell_type": "code",
   "execution_count": 4,
   "id": "995b1cc2",
   "metadata": {},
   "outputs": [],
   "source": [
    "# wan = 1.25\n",
    "# Ga = 0.01\n",
    "# Gp = 0.9\n",
    "\n",
    "# Gp = 0.89125\n",
    "# Ga = 0.003162277\n",
    "# wan = 1.5\n",
    "\n",
    "\n",
    "\n",
    "wan = 14.19\n",
    "Ga = 10**(-40/20)# # -32db\n",
    "Gp = 10**(-0.2/20)#  -3dB\n",
    "plantilla_values ={'wp': 1, 'wa': wan, 'Ga': Ga, 'Gp': Gp}\n"
   ]
  },
  {
   "cell_type": "markdown",
   "id": "e75cda37",
   "metadata": {},
   "source": [
    "### Función seno elíptico y cálculo de pseudoperíodo"
   ]
  },
  {
   "cell_type": "code",
   "execution_count": 5,
   "id": "7b3bcc8c",
   "metadata": {},
   "outputs": [],
   "source": [
    "def SenoEliptico(z, k) -> np.ndarray:\n",
    "    \"\"\"\n",
    "    Función de seno elíptico\n",
    "\n",
    "    :param complex z: Argumento del seno elíptico\n",
    "    :param float k: Parámetro k del seno elíptico\n",
    "\n",
    "    :return sn:  Valor del seno elíptico\n",
    "    \"\"\"\n",
    "    sn, cn, dn, ph = scx.ellipj(u=z, m=k**2)\n",
    "\n",
    "    #Usamos esta  porque recibe argumentos complejos y no sc.special.ellipk\n",
    "    return sn\n",
    "\n",
    "def L_SN(k) -> float:\n",
    "    \"\"\"\n",
    "    Función que cálcula el pseudoperíodo real de un seno elíptico de parámetro k\n",
    "\n",
    "    :param float k: Constante k del seno elíptico\n",
    "\n",
    "    :returns L: Valor de L\n",
    "    \"\"\"\n",
    "    return float(np.real(sc.special.ellipk(k**2))) if not isinstance(k, np.ndarray) else np.real(sc.special.ellipk(k**2)).astype(float)\n",
    "\n",
    "\n",
    "def Li_SN(k) -> float:\n",
    "    \"\"\"\n",
    "    Función que cálcula el pseudoperíodo imaginario  de un seno elíptico de parámetro k\n",
    "\n",
    "    :param float k: Constante k del seno elíptico\n",
    "\n",
    "    :return Li: Valor de Li\n",
    "    \"\"\"\n",
    "    return float(sc.special.ellipk(1-k**2)) if not isinstance(k, np.ndarray) else sc.special.ellipk(1-k**2).astype(float)"
   ]
  },
  {
   "cell_type": "markdown",
   "id": "1d07f440",
   "metadata": {},
   "source": [
    "A partir de los datos de la plantilla obtenemos $k_1$ y $k_2$\n",
    "\n",
    "$k_1 = \\frac{\\sqrt{\\frac{1}{G_p^2} -1 }}{\\sqrt{\\frac{1}{G_a^2} -1 }}$\n",
    "\n",
    "$k_2 =  \\frac{1}{w_{an}}$"
   ]
  },
  {
   "cell_type": "code",
   "execution_count": 6,
   "id": "750264e5",
   "metadata": {},
   "outputs": [
    {
     "name": "stdout",
     "output_type": "stream",
     "text": [
      "El valor de k1 es:  0.00217101960785796\n",
      "El valor de 1/k1 es:  460.61306695735084\n",
      "El valor de k2 es:  0.07047216349541931\n"
     ]
    }
   ],
   "source": [
    "k1 =  np.sqrt(1/(Gp**2)-1)/ np.sqrt(1/(Ga**2)-1)\n",
    "print('El valor de k1 es: ', k1)\n",
    "print('El valor de 1/k1 es: ', 1/k1)\n",
    "k2 = 1/wan\n",
    "print('El valor de k2 es: ', k2)\n"
   ]
  },
  {
   "cell_type": "markdown",
   "id": "ed7e898c",
   "metadata": {},
   "source": [
    "A partir de  $k_1$ y $k_2$ podemos obtener los pseudoperíodos "
   ]
  },
  {
   "cell_type": "code",
   "execution_count": 7,
   "id": "5a9d2f05",
   "metadata": {},
   "outputs": [
    {
     "name": "stdout",
     "output_type": "stream",
     "text": [
      "El valor de L1 es:  1.5707981777186497\n",
      "El valor de Li1 es:  7.518860398917608\n",
      "El valor de L2 es:  1.5727520654458922\n",
      "El valor de Li2 es:  4.042614805160723\n"
     ]
    }
   ],
   "source": [
    "L1 = L_SN(k1)\n",
    "Li1 = Li_SN(k1)\n",
    "\n",
    "print('El valor de L1 es: ', L1)\n",
    "print('El valor de Li1 es: ', Li1)\n",
    "\n",
    "\n",
    "L2 = L_SN(k2)\n",
    "Li2 = Li_SN(k2)\n",
    "\n",
    "print('El valor de L2 es: ', L2)\n",
    "print('El valor de Li2 es: ', Li2)"
   ]
  },
  {
   "cell_type": "code",
   "execution_count": 8,
   "id": "c60dd06e",
   "metadata": {},
   "outputs": [
    {
     "data": {
      "text/plain": [
       "np.complex128(460.61306695667963+1.5515377325814326e-26j)"
      ]
     },
     "metadata": {},
     "output_type": "display_data"
    }
   ],
   "source": [
    "display(SenoEliptico(z=(5*L1+1j*Li1),k=k1))"
   ]
  },
  {
   "cell_type": "markdown",
   "id": "d4469d23",
   "metadata": {},
   "source": [
    "### Cálculo del orden"
   ]
  },
  {
   "cell_type": "markdown",
   "id": "1b5a3944",
   "metadata": {},
   "source": [
    "Sacamos el orden \n",
    "\n",
    "$ N \\geq \\frac{L_{2} \\cdot L_{i1}}{L_{i2} \\cdot L_{1}}$"
   ]
  },
  {
   "cell_type": "code",
   "execution_count": 9,
   "id": "082d75f6",
   "metadata": {},
   "outputs": [
    {
     "name": "stdout",
     "output_type": "stream",
     "text": [
      "1.8622137743937517\n",
      "El valor del orden es 2\n"
     ]
    }
   ],
   "source": [
    "N  = (L2 * Li1)/(Li2 * L1)\n",
    "print(N)\n",
    "N = int(np.ceil(N)) #Tomamos el entero más cercano\n",
    "\n",
    "print('El valor del orden es', int(N))\n"
   ]
  },
  {
   "cell_type": "markdown",
   "id": "131f59a3",
   "metadata": {},
   "source": [
    "### Construimos F(w)"
   ]
  },
  {
   "cell_type": "markdown",
   "id": "40d053e9",
   "metadata": {},
   "source": [
    "Ya tenemos todos los datos para sacar los polos y ceros de  $F(\\omega)$ a través la función $S_{n_{k2}}$"
   ]
  },
  {
   "cell_type": "markdown",
   "id": "27f73534",
   "metadata": {},
   "source": [
    "Para N par:\n",
    "\n",
    "- $wz = S_{n_{k2}}( (2*n -1) * \\frac{L_2}{N} )$\n",
    "\n",
    "-  $wp = S_{n_{k2}}( (2*n -1) * \\frac{L_2}{N}  + jL_{2_i} )$\n",
    "\n",
    "\n",
    "Para N impar:\n",
    " \n",
    "- $wz = S_{n_{k2}}( (2*n) * \\frac{L_2}{N} )$\n",
    "\n",
    "- $wp = S_{n_{k2}}( (2*n) * \\frac{L_2}{N}  + jL_{2_i}  )$\n"
   ]
  },
  {
   "cell_type": "code",
   "execution_count": 10,
   "id": "6cab9bff",
   "metadata": {},
   "outputs": [
    {
     "name": "stdout",
     "output_type": "stream",
     "text": [
      "Polos calculados a carbón   [np.float64(-20.05521322905707), np.float64(20.05521322905707)]\n",
      "Polos con cálculo anterior  [np.float64(-20.055213229056616), np.float64(20.055213229056616)]\n",
      "Los ceros son  [np.float64(-0.707546703090684), np.float64(0.707546703090684)]\n"
     ]
    }
   ],
   "source": [
    "\n",
    "def get_zeros(N, k2) -> list:\n",
    "    \"\"\"\n",
    "    Función que obtiene los ceros de F(w)  que cumple plantilla\n",
    "    \n",
    "    :param int N: orden del filtro\n",
    "    :param float k2: parámetro del seno elíptico\n",
    "\n",
    "    :return zeros: lista de ceros \n",
    "    \"\"\"\n",
    "    L2 = L_SN(k2)\n",
    "    zeros= []\n",
    "\n",
    "\n",
    "    #Par\n",
    "    if N%2 == 0:\n",
    "        for n in range(-int(N/2), int(N/2)):\n",
    "            lugar_del_cero =  (2*n + 1)*L2/N\n",
    "            zn =  SenoEliptico(z = lugar_del_cero, k= k2)\n",
    "            zeros.append(zn)\n",
    "\n",
    "    #Impar\n",
    "    elif N%2 != 0:\n",
    "        for n in range(-int(np.floor(N/2)), int(np.floor(N/2)) + 1):   #+1 porque range no toma el último \n",
    "            lugar_del_cero =  (2*n)*L2/N\n",
    "            zn =  SenoEliptico(z = lugar_del_cero, k= k2)\n",
    "            zeros.append(zn)\n",
    "\n",
    "    return zeros\n",
    "\n",
    "\n",
    "def get_poles (N, k2) -> list:\n",
    "    \"\"\"\n",
    "    Función que obtiene los polos de  F(w)  que cumple plantilla\n",
    "    \n",
    "    :param int N: orden del filtro\n",
    "    :param float k2: parámetro del seno elíptico\n",
    "\n",
    "    :return polser: lista de polos \n",
    "    \"\"\"\n",
    "        \n",
    "    L2 = L_SN(k2)\n",
    "    Li2 = Li_SN(k2)\n",
    "\n",
    "    poles = []\n",
    "\n",
    "    #Par\n",
    "    if N%2 == 0:\n",
    "        for n in range(-int(N/2), int(N/2)):\n",
    "            lugar_del_polo =  (2*n + 1)*L2/N + 1j*Li2\n",
    "            pn =  SenoEliptico(z = lugar_del_polo, k= k2)\n",
    "            poles.append(np.real(pn))   #Eliminamos el error  (parte imaginaria)\n",
    "\n",
    "    #Impar\n",
    "    elif N%2 != 0:\n",
    "        for n in range(-int(np.floor(N/2)), int(np.floor(N/2)) + 1):   #+1 porque range no toma el último \n",
    "            if n != 0:                                                  #Si n es cero, entonces el argumetno es j*Li2 y en ese punto el seno eliptico da infinito w = infinito\n",
    "                lugar_del_polo =  (2*n)*L2/N + 1j*Li2\n",
    "                pn =  SenoEliptico(z = lugar_del_polo, k= k2)\n",
    "                poles.append(np.real(pn))  #Eliminamos el error (parte imaginaria)\n",
    "\n",
    "    poles2 = []\n",
    "    for zi in zeros:\n",
    "        if(zi!=0):\n",
    "            poles2.append(1/(zi*k2))\n",
    "\n",
    "    print('Polos calculados a carbón  ', poles2)\n",
    "    return poles\n",
    "\n",
    "\n",
    "zeros = get_zeros(N, k2)\n",
    "poles = get_poles(N, k2)\n",
    "\n",
    "print('Polos con cálculo anterior ', poles)\n",
    "print('Los ceros son ', zeros)"
   ]
  },
  {
   "cell_type": "markdown",
   "id": "45372ebe",
   "metadata": {},
   "source": [
    "Obtenemos el polinomio $F(\\omega)$"
   ]
  },
  {
   "cell_type": "code",
   "execution_count": 11,
   "id": "8f08ec48",
   "metadata": {},
   "outputs": [
    {
     "name": "stdout",
     "output_type": "stream",
     "text": [
      "1.0\n"
     ]
    }
   ],
   "source": [
    "num = np.poly(zeros)\n",
    "den = np.poly(poles)\n",
    "#Par\n",
    "if N%2 == 0:\n",
    "    Gain = np.cumprod(poles)[-1]/np.cumprod(zeros)[-1]\n",
    "    F_in_0 = Gain * np.polyval(num, 0)/np.polyval(den, 0)  #Función elíptica\n",
    "    print(F_in_0)\n",
    "\n",
    "#Impar  \n",
    "else: \n",
    "    zeros_without_zero = [(1-zero) for zero in zeros]    \n",
    "    poles_correct =  [(1-pole) for pole in poles ]\n",
    "    Gain = np.cumprod(poles_correct)[-1]/np.cumprod(zeros_without_zero)[-1]\n",
    "    F_in_1 = Gain * np.polyval(num, 1)/np.polyval(den, 1)  #Función elíptica\n",
    "    print(\"Se calcula la ganancia en 1, para verificar que está bien normalizado en amplitud: \",F_in_1)\n",
    "\n",
    "\n",
    "w_points = np.linspace(4*np.min(poles), 4*np.max(poles), 10000 )\n",
    "\n",
    "F_values = []\n",
    "F_values_log = []\n",
    "prev_value=0\n",
    "for point in w_points : \n",
    "    F_value = Gain * np.polyval(num, point)/np.polyval(den, point)  #Función elíptica\n",
    "    \n",
    "    if (prev_value*F_value < 0) and (abs(prev_value-F_value)>1): #Tienen distinto signo y es un salto grande. Esto elimina las discontinuidades\n",
    "        F_values.append(np.nan)\n",
    "    else:\n",
    "        F_values.append(F_value)\n",
    "\n",
    "    prev_value=F_value\n",
    "\n",
    "    #F_values_log.append( np.sign(F_value) * np.log2(np.abs(F_value) + 1))\n"
   ]
  },
  {
   "cell_type": "code",
   "execution_count": 12,
   "id": "c0bc6890",
   "metadata": {},
   "outputs": [
    {
     "name": "stdout",
     "output_type": "stream",
     "text": [
      "1/k1 de la plantilla: 460.61306695735084\n",
      "\n",
      "\n",
      "Evaluando esta función en 1/k2 se obtiene el verdadero 1/k1 para el orden entero:\n",
      "-803.4231553259276\n"
     ]
    },
    {
     "data": {
      "image/png": "[encoded data removed]",
      "text/plain": [
       "<Figure size 1400x500 with 2 Axes>"
      ]
     },
     "metadata": {},
     "output_type": "display_data"
    }
   ],
   "source": [
    "#Comprobación del márgen\n",
    "\n",
    "print('1/k1 de la plantilla:', 1/k1)\n",
    "print('\\n')\n",
    "\n",
    "print('Evaluando esta función en 1/k2 se obtiene el verdadero 1/k1 para el orden entero:') #Función elíptica\n",
    "k1real=1/( Gain * np.polyval(num, 1/k2)/np.polyval(den,1/k2))\n",
    "print(1/k1real)\n",
    "\n",
    "fig, (ax1, ax2) = plt.subplots(1, 2, figsize=(14, 5))  # Wider figure to accommodate both plots\n",
    "\n",
    "# First subplot - original scale\n",
    "ax1.plot(w_points, F_values, color=\"gray\")\n",
    "ax1.add_patch(Rectangle((1/k2, -1/k1), 2*1/k1, 2*1/k1, facecolor='red', alpha=0.2))\n",
    "ax1.add_patch(Rectangle((-1/k2, -1/k1), -2*1/k1, 2*1/k1, facecolor='red', alpha=0.2))\n",
    "\n",
    "ax1.add_patch(Rectangle((1/k2, -1/k1real), 2*1/k1real, 2*1/k1real, facecolor='red', alpha=0.2))\n",
    "ax1.add_patch(Rectangle((-1/k2, -1/k1real), -2*1/k1real, 2*1/k1real, facecolor='red', alpha=0.2))\n",
    "\n",
    "ax1.set_ylim([5*(-1/k1), 5*(1/k1)])\n",
    "ax1.set_xlim([np.min(w_points), np.max(w_points)])\n",
    "ax1.grid()\n",
    "ax1.set_title('Polinomio F($\\\\omega$) de orden '+ str(int(N)) + ' (Vista General)')\n",
    "ax1.set_xlabel('$\\\\omega$')\n",
    "ax1.set_ylabel('F($\\\\omega$)')\n",
    "\n",
    "# Second subplot - zoomed in scale\n",
    "ax2.plot(w_points, F_values, color=\"gray\")\n",
    "ax2.add_patch(Rectangle((-1, -1), 2, 2, facecolor='green', alpha=0.2))\n",
    "ax2.set_ylim([-1.5, 1.5])\n",
    "ax2.set_xlim([-1.5, 1.5])\n",
    "ax2.grid()\n",
    "ax2.set_title('Polinomio F($\\\\omega$) de orden '+ str(int(N)) + ' (Cuadrado unitario)')\n",
    "ax2.set_xlabel('$\\\\omega$')\n",
    "ax2.set_ylabel('F($\\\\omega$)')\n",
    "\n",
    "plt.tight_layout()  # Adjust spacing between subplots\n",
    "plt.show()\n"
   ]
  },
  {
   "cell_type": "markdown",
   "id": "045b0055",
   "metadata": {},
   "source": [
    "## Conseguimos  G(w) y |H(s)|"
   ]
  },
  {
   "cell_type": "code",
   "execution_count": 13,
   "id": "a03486ca",
   "metadata": {},
   "outputs": [],
   "source": [
    "from sympy.abc import s,w,xi,p \n"
   ]
  },
  {
   "cell_type": "code",
   "execution_count": 14,
   "id": "062c1c22",
   "metadata": {},
   "outputs": [],
   "source": [
    "def get_poly_Cauer(zeros,poles):\n",
    "\n",
    "    x = sp.symbols('x')\n",
    "    #Par\n",
    "    if N%2 == 0:\n",
    "        Gain = np.cumprod(poles)[-1]/np.cumprod(zeros)[-1]\n",
    "       \n",
    "\n",
    "    #Impar  \n",
    "    else: \n",
    "        zeros_for_gain = [(1-zero) for zero in zeros]     # En w = 1 tiene que dar 1, normalizo la ganancia en ese valor\n",
    "        poles_for_gain =  [(1-pole) for pole in poles ]\n",
    "        Gain = np.cumprod(poles_for_gain)[-1]/np.cumprod(zeros_for_gain)[-1]\n",
    "\n",
    "    num =  sp.expand(sp.prod([(x - zero) for zero in zeros]))\n",
    "    den = sp.expand(sp.prod([(x - pole) for pole in poles]))\n",
    "    F_poly =  Gain * num/den\n",
    "    return F_poly, x"
   ]
  },
  {
   "cell_type": "code",
   "execution_count": 15,
   "id": "192c3012",
   "metadata": {},
   "outputs": [
    {
     "name": "stderr",
     "output_type": "stream",
     "text": [
      "C:\\Users\\samma\\AppData\\Local\\Temp\\ipykernel_19188\\3888375821.py:2: RuntimeWarning: invalid value encountered in multiply\n",
      "  F2 = F*xi\n"
     ]
    },
    {
     "data": {
      "text/plain": [
       "'Transformación del polinomio (nótese que p es un polinomio): '"
      ]
     },
     "metadata": {},
     "output_type": "display_data"
    },
    {
     "data": {
      "text/latex": [
       "$\\displaystyle \\frac{1}{p^{2} \\xi^{2} + 1}$"
      ],
      "text/plain": [
       "1/(p**2*xi**2 + 1)"
      ]
     },
     "metadata": {},
     "output_type": "display_data"
    },
    {
     "data": {
      "text/plain": [
       "'Reemplazamos p por el polinomio de Cauer orden 2'"
      ]
     },
     "metadata": {},
     "output_type": "display_data"
    },
    {
     "data": {
      "text/latex": [
       "$\\displaystyle \\frac{1}{\\frac{\\xi^{2} \\left(803.423155325855 w^{2} - 402.211577662927\\right)^{2}}{\\left(w^{2} - 402.211577662927\\right)^{2}} + 1}$"
      ],
      "text/plain": [
       "1/(xi**2*(803.423155325855*w**2 - 402.211577662927)**2/(w**2 - 402.211577662927)**2 + 1)"
      ]
     },
     "metadata": {},
     "output_type": "display_data"
    },
    {
     "data": {
      "text/plain": [
       "'Reemplazamos p por el polinomio de Cauer orden 2'"
      ]
     },
     "metadata": {},
     "output_type": "display_data"
    },
    {
     "data": {
      "text/latex": [
       "$\\displaystyle \\frac{\\left(w^{2} - 402.211577662927\\right)^{2}}{\\xi^{2} \\left(803.423155325855 w^{2} - 402.211577662927\\right)^{2} + \\left(w^{2} - 402.211577662927\\right)^{2}}$"
      ],
      "text/plain": [
       "(w**2 - 402.211577662927)**2/(xi**2*(803.423155325855*w**2 - 402.211577662927)**2 + (w**2 - 402.211577662927)**2)"
      ]
     },
     "metadata": {},
     "output_type": "display_data"
    }
   ],
   "source": [
    "\n",
    "F = np.array(F_values)  \n",
    "F2 = F*xi  \n",
    "F3 = (F2)**2\n",
    "F4 = (F3)+1\n",
    "F5 = 1/F4\n",
    "\n",
    "F_poly, x = get_poly_Cauer(zeros, poles)\n",
    "\n",
    "G= 1/(1+(xi*p)**2) # Acá p es un polinomio\n",
    "\n",
    "\n",
    "display('Transformación del polinomio (nótese que p es un polinomio): ', G)\n",
    "\n",
    "cauer_p = F_poly.subs(x, w)\n",
    "#Reemplazo cheby en la transformación \n",
    "G = G.subs(p, cauer_p)\n",
    "\n",
    "display('Reemplazamos p por el polinomio de Cauer orden ' + str(N),  G)\n",
    "display('Reemplazamos p por el polinomio de Cauer orden ' + str(N),  sp.simplify(G))\n",
    "\n",
    "# Fsw"
   ]
  },
  {
   "cell_type": "code",
   "execution_count": 24,
   "id": "6e6b5fbd",
   "metadata": {},
   "outputs": [
    {
     "data": {
      "text/plain": [
       "'El resultado positivo fue: '"
      ]
     },
     "metadata": {},
     "output_type": "display_data"
    },
    {
     "data": {
      "text/latex": [
       "$\\displaystyle \\xi = 0.22$"
      ],
      "text/plain": [
       "<IPython.core.display.Math object>"
      ]
     },
     "metadata": {},
     "output_type": "display_data"
    },
    {
     "data": {
      "text/plain": [
       "'Sustituyendo xi, la tranformación resulta:  '"
      ]
     },
     "metadata": {},
     "output_type": "display_data"
    },
    {
     "data": {
      "text/latex": [
       "$\\displaystyle \\frac{\\left(w^{2} - 402.211577662927\\right)^{2}}{\\left(w^{2} - 402.211577662927\\right)^{2} + 0.047089 \\left(803.423155325855 w^{2} - 402.211577662927\\right)^{2}}$"
      ],
      "text/plain": [
       "(w**2 - 402.211577662927)**2/((w**2 - 402.211577662927)**2 + 0.047089*(803.423155325855*w**2 - 402.211577662927)**2)"
      ]
     },
     "metadata": {},
     "output_type": "display_data"
    }
   ],
   "source": [
    "#Evaluamos en w = 1\n",
    "G_xi = G.subs(w, 1)\n",
    "eq_xi = sp.Eq(G_xi,Gp**2)\n",
    "\n",
    "\n",
    "#Obtenemos el valor de xi \n",
    "sol_xi = sp.solve(eq_xi)            \n",
    "sol_xi = sol_xi[1]    #Consigo el valor positivo \n",
    "\n",
    "\n",
    "\n",
    "display('El resultado positivo fue: ')\n",
    "display(Math(f'\\\\xi = {sol_xi:.2f}'))\n",
    "\n",
    "\n",
    "#Se reemplaza xi en la expresión del polinomio transformado\n",
    "G_xi = G.subs(xi, 217e-3)\n",
    "\n",
    "display('Sustituyendo xi, la tranformación resulta:  ')\n",
    "display(G_xi.simplify())"
   ]
  },
  {
   "cell_type": "code",
   "execution_count": 56,
   "id": "4ae2f81f",
   "metadata": {},
   "outputs": [],
   "source": [
    "def get_zeros_and_poles(F):\n",
    "    \"\"\"\n",
    "    Función que calcula los ceros y los polos de una función transferencia\n",
    "    \n",
    "    :param F: función transferencia como expresión de sympy\n",
    "\n",
    "    :returns: ceros y polos de la función transferencias\n",
    "    \"\"\"\n",
    "\n",
    "    #Obtenemos  el numerador y denominador de la expresión\n",
    "    num = sp.fraction(F)[0]\n",
    "    den = sp.fraction(F)[1]\n",
    "    \n",
    "\n",
    "    #Obtenemos los coeficientes del numerador y denominador. Los ifs son para los casos donde el numerador o denominador son de orden 1. \n",
    "\n",
    "    #si es de orden 1\n",
    "\n",
    "    print(type(num))\n",
    "    print(type(den))\n",
    "\n",
    "    #Si no tiene ceros\n",
    "    if num.is_number:\n",
    "        num_coeffs = num\n",
    "    #Si tiene ceros\n",
    "    else:\n",
    "        num_coeffs = sp.Poly(num).all_coeffs()\n",
    "\n",
    "    #Si no tiene polos\n",
    "\n",
    "    if den.is_number:\n",
    "    \n",
    "        den_coeffs = den\n",
    "    #Si tiene polos\n",
    "    else:\n",
    "        den_coeffs = sp.Poly(den).all_coeffs()\n",
    "\n",
    "    #Para mejor manejo vamos a pasar estos coeficientes a un tipo de arreglo de numpy (confíen)\n",
    "    num_coeffs = np.array(num_coeffs, dtype = float)\n",
    "    den_coeffs = np.array(den_coeffs, dtype = float)\n",
    "\n",
    "    \n",
    "\n",
    "    #Obtenemos las raíces de esos polinomios. \n",
    "    #Esto lo vamos a hacer a través de scipy, que tiene una función que a partir de los coeficientes del numerador y denominador, te da los polos y ceros\n",
    "    \n",
    "    pz = signal.tf2zpk(num_coeffs,den_coeffs)\n",
    "\n",
    "    #pz es una arreglo [ceros, polos, ganancia]\n",
    "\n",
    "    zeros = pz[0]\n",
    "    poles = pz[1]\n",
    "\n",
    "    return zeros, poles\n",
    "\n",
    "def plot_pz_map(zeros, poles):\n",
    "    \"\"\"\n",
    "    Función que grafica el PZ map diagrama de polos y ceros. \n",
    "        \n",
    "    :param zeros: lista de ceros\n",
    "    :param poles: lista de polos\n",
    "\n",
    "    \"\"\"\n",
    "    plt.figure(figsize=(8, 6))\n",
    "    zeros_parte_real = np.real(zeros)\n",
    "    zeros_parte_imaginaria =  np.imag(zeros)\n",
    "    plt.scatter(zeros_parte_real,zeros_parte_imaginaria, marker='o', color='b')\n",
    "\n",
    "    poles_parte_real = np.real(poles)\n",
    "    poles_parte_imaginaria =  np.imag(poles)\n",
    "    plt.scatter(poles_parte_real,poles_parte_imaginaria, marker='x', color='b')\n",
    "\n",
    "    #Pueden cambiar este límite como quieram\n",
    "    # plt.ylim([-5, 5])\n",
    "    # plt.xlim([-5, 5])\n",
    "\n",
    "    plt.xlabel('$\\\\sigma$')\n",
    "    plt.ylabel('$j\\\\omega$')\n",
    "\n",
    "    plt.grid()\n",
    "    plt.show()\n",
    "    \n",
    "def plot_transfer_heatmap(H, poles, zeros, padding=1000, resolution=800):\n",
    "    \"\"\"\n",
    "    Grafica el módulo logarítmico de H(s) como imagen en el plano complejo,\n",
    "    ajustando automáticamente los rangos según polos y ceros.\n",
    "\n",
    "    :param H: función de transferencia H(s), donde s es complejo\n",
    "    :param poles: lista de polos\n",
    "    :param zeros: lista de ceros\n",
    "    :param padding: margen adicional en cada eje\n",
    "    :param resolution: cantidad de puntos en cada eje\n",
    "    \"\"\"\n",
    "    all_points = np.array(poles + zeros)\n",
    "    real_min, real_max = np.real(all_points).min(), np.real(all_points).max()\n",
    "    imag_min, imag_max = np.imag(all_points).min(), np.imag(all_points).max()\n",
    "\n",
    "    real_range = (real_min - padding, real_max + padding)\n",
    "    imag_range = (imag_min - padding, imag_max + padding)\n",
    "\n",
    "    sigma = np.linspace(real_range[0], real_range[1], resolution)\n",
    "    omega = np.linspace(imag_range[0], imag_range[1], resolution)\n",
    "    S = sigma[np.newaxis, :] + 1j * omega[:, np.newaxis]\n",
    "\n",
    "    H_vals = H(S)\n",
    "    log_mag = 20*np.log10(np.abs(H_vals) + 1e-10)\n",
    "\n",
    "    plt.scatter(np.real(zeros), np.imag(zeros), marker='o', color='blue', label='Ceros')\n",
    "    plt.scatter(np.real(poles), np.imag(poles), marker='x', color='red', label='Polos')\n",
    "    plt.legend()\n",
    "\n",
    "    plt.figure(figsize=(8, 6))\n",
    "    plt.imshow(log_mag, extent=(real_range[0], real_range[1], imag_range[0], imag_range[1]),\n",
    "               origin='lower', cmap='viridis' , aspect='auto')\n",
    "    plt.colorbar(label=r'$|H(s)|(dB)$')\n",
    "    plt.xlabel(r'$\\sigma$')\n",
    "    plt.ylabel(r'$\\omega$')\n",
    "    plt.title(\"Magnitud $|H(s)|(dB)$ en el plano s\")\n",
    "    plt.axhline(0, color='black', lw=1)\n",
    "    plt.axvline(0, color='black', lw=1)\n",
    "    plt.grid(False)\n",
    "    plt.show()\n",
    "\n",
    "\n",
    "def plot_bode(mag, w, plantilla_values, xlim1=None, ylim1=None, xlim2=None, ylim2=None):\n",
    "    \"\"\"\n",
    "    Función que plotea el módulo de la respuesta en frecuencia de un sistema en dos escalas diferentes.\n",
    "\n",
    "    :param mag: valores de magnitud\n",
    "    :param w: valores de frecuencia\n",
    "    :param plantilla_values: diccionario con valores de la plantilla (wa, Ga, Gp)\n",
    "    :param xlim1: límites del eje x para el primer gráfico (tuple). Default: [0, 6]\n",
    "    :param ylim1: límites del eje y para el primer gráfico (tuple). Default: [0, 0.012]\n",
    "    :param xlim2: límites del eje x para el segundo gráfico (tuple). Default: [0, 1.5]\n",
    "    :param ylim2: límites del eje y para el segundo gráfico (tuple). Default: [0.8, 1.2]\n",
    "    \"\"\"\n",
    "    # Set default limits if not provided\n",
    "    if xlim1 is None:\n",
    "        xlim1 = [0, 6]\n",
    "    if ylim1 is None:\n",
    "        ylim1 = [0, 0.012]\n",
    "    if xlim2 is None:\n",
    "        xlim2 = [0, 1.5]\n",
    "    if ylim2 is None:\n",
    "        ylim2 = [0.8, 1.2]\n",
    "    \n",
    "    # Create figure with two subplots\n",
    "    fig, (ax1, ax2) = plt.subplots(1, 2, figsize=(14, 5))\n",
    "    \n",
    "    # Extract template values\n",
    "    wa = plantilla_values['wa']\n",
    "    wp = 1\n",
    "    Ga = plantilla_values['Ga']  # -32db\n",
    "    Gp = plantilla_values['Gp']  # -2.5dB\n",
    "\n",
    "    # First plot (wide scale)\n",
    "    ax1.plot(w, mag)\n",
    "    ax1.add_patch(Rectangle((0, 1), wp, -(1 - Gp), facecolor='green', alpha=0.2))\n",
    "    ax1.add_patch(Rectangle((wa, 0), 10, Ga, facecolor='red', alpha=0.2))\n",
    "    #ax1.set_xlim(xlim1)\n",
    "    #ax1.set_ylim(ylim1)\n",
    "    ax1.set_ylabel('Módulo [v/v]')\n",
    "    ax1.set_xlabel('$\\\\omega$ [rad/s]')\n",
    "    ax1.grid()\n",
    "    ax1.set_title('Escala completa')\n",
    "\n",
    "    # Second plot (zoomed scale)\n",
    "    ax2.plot(w, mag)\n",
    "    ax2.add_patch(Rectangle((0, 1), wp, -(1 - Gp), facecolor='green', alpha=0.2))\n",
    "    ax2.add_patch(Rectangle((wa, 0), 10, Ga, facecolor='red', alpha=0.2))\n",
    "    #ax2.set_xlim(xlim2)\n",
    "    #ax2.set_ylim(ylim2)\n",
    "    ax2.set_xlabel('$\\\\omega$ [rad/s]')\n",
    "    ax2.grid()\n",
    "    ax2.set_title('Escala ampliada')\n",
    "\n",
    "    plt.suptitle('Módulo de la respuesta en frecuencia')\n",
    "    plt.tight_layout()\n",
    "    plt.show()\n",
    "\n"
   ]
  },
  {
   "cell_type": "code",
   "execution_count": 18,
   "id": "18054d2d",
   "metadata": {},
   "outputs": [
    {
     "name": "stdout",
     "output_type": "stream",
     "text": [
      "Ga**2 =  0.0001\n",
      "La transformación evaluada en w = wa da 3.28986105167354e-5\n",
      "La transformación con Chebyshev de orden 8 cumple con la plantilla\n"
     ]
    }
   ],
   "source": [
    "G_n = G_xi.subs(w, wan)\n",
    "print('Ga**2 = ', Ga**2)\n",
    "\n",
    "print('La transformación evaluada en w = wa da', G_n)\n",
    "\n",
    "if G_n < Ga**2:\n",
    "    print('La transformación con Chebyshev de orden 8 cumple con la plantilla')"
   ]
  },
  {
   "cell_type": "code",
   "execution_count": 19,
   "id": "143664aa",
   "metadata": {},
   "outputs": [
    {
     "data": {
      "text/plain": [
       "'Realizando el cambio de variable de w = s/j: '"
      ]
     },
     "metadata": {},
     "output_type": "display_data"
    },
    {
     "data": {
      "text/latex": [
       "$\\displaystyle \\frac{3.28986105167413 \\cdot 10^{-5} \\left(3.7381264289554 \\cdot 10^{-34} s^{8} + 3.39156186308661 \\cdot 10^{-24} s^{6} + 7.73148737924906 \\cdot 10^{-15} s^{4} + 1.75417432534583 \\cdot 10^{-7} s^{2} + 1.0\\right)}{3.7381264289554 \\cdot 10^{-34} s^{8} + 3.43954425914614 \\cdot 10^{-25} s^{6} + 1.17993112151619 \\cdot 10^{-16} s^{4} + 1.77899164864231 \\cdot 10^{-8} s^{2} + 1.0}$"
      ],
      "text/plain": [
       "3.28986105167413e-5*(3.7381264289554e-34*s**8 + 3.39156186308661e-24*s**6 + 7.73148737924906e-15*s**4 + 1.75417432534583e-7*s**2 + 1.0)/(3.7381264289554e-34*s**8 + 3.43954425914614e-25*s**6 + 1.17993112151619e-16*s**4 + 1.77899164864231e-8*s**2 + 1.0)"
      ]
     },
     "metadata": {},
     "output_type": "display_data"
    }
   ],
   "source": [
    "B = (2.667e3 - 2.16e3)*2*np.pi\n",
    "wo =np.sqrt(2.667e3 * 2.16e3) *2*np.pi\n",
    "\n",
    "\n",
    "Gs_aux = G_xi.subs(w, s/sp.I) #sp.I es el número imaginario\n",
    "Gs = Gs_aux.subs(s, (s**2 + wo**2) / (B * s))\n",
    "\n",
    "display(f'Realizando el cambio de variable de w = s/j: ')\n",
    "display(sp.factor(sp.simplify(Gs)))"
   ]
  },
  {
   "cell_type": "code",
   "execution_count": null,
   "id": "968c21cd",
   "metadata": {},
   "outputs": [
    {
     "name": "stdout",
     "output_type": "stream",
     "text": [
      "<class 'sympy.core.add.Add'>\n",
      "<class 'sympy.core.add.Add'>\n",
      "ceros:  [np.complex128(-0.000891858663635503+67268.23912963682j), np.complex128(-0.000891858663635503-67268.23912963682j), np.complex128(0.0008918586772779236+67268.23909261452j), np.complex128(0.0008918586772779236-67268.23909261452j), np.complex128(-1.8583250493975356e-08+3380.854291176334j), np.complex128(-1.8583250493975356e-08-3380.854291176334j), np.complex128(1.8583023120299913e-08+3380.8541426084253j), np.complex128(1.8583023120299913e-08-3380.8541426084253j)]\n",
      "polos:  [np.complex128(-1723.8165680266711+17034.50220466787j), np.complex128(-1723.8165680266711-17034.50220466787j), np.complex128(1723.8165680266643+17034.502204667893j), np.complex128(1723.8165680266643-17034.502204667893j), np.complex128(-1337.346250971068+13215.459279782981j), np.complex128(-1337.346250971068-13215.459279782981j), np.complex128(1337.3462509710687+13215.459279782977j), np.complex128(1337.3462509710687-13215.459279782977j)]\n"
     ]
    }
   ],
   "source": [
    "#Obtenemos todos los polos y ceros de Fs\n",
    "\n",
    "zeros_f, poles_f = get_zeros_and_poles(sp.simplify(Gs)) #sin el simplify se rompe\n",
    "\n",
    "\n",
    "\n",
    "print('ceros: ', list(zeros_f))\n",
    "print('polos: ', list(poles_f))\n",
    "\n",
    "#Hacemos el diagrama de polos y ceros\n",
    "plot_pz_map(zeros_f,poles_f)\n",
    "\n",
    "\n"
   ]
  },
  {
   "cell_type": "code",
   "execution_count": 57,
   "id": "e96b5aea",
   "metadata": {},
   "outputs": [
    {
     "data": {
      "text/plain": [
       "'ceros: '"
      ]
     },
     "metadata": {},
     "output_type": "display_data"
    },
    {
     "data": {
      "text/plain": [
       "[np.complex128(-0.0001419437148569223+10706.072770569355j),\n",
       " np.complex128(-0.0001419437148569223-10706.072770569355j),\n",
       " np.complex128(-2.957616174831084e-09+538.0796723141596j),\n",
       " np.complex128(-2.957616174831084e-09-538.0796723141596j)]"
      ]
     },
     "metadata": {},
     "output_type": "display_data"
    },
    {
     "data": {
      "text/plain": [
       "'polos del lado izquierdo: '"
      ]
     },
     "metadata": {},
     "output_type": "display_data"
    },
    {
     "data": {
      "text/plain": [
       "[np.complex128(-274.3539277851512+2711.1252289826807j),\n",
       " np.complex128(-274.3539277851512-2711.1252289826807j),\n",
       " np.complex128(-212.8452664674599+2103.3056696071208j),\n",
       " np.complex128(-212.8452664674599-2103.3056696071208j)]"
      ]
     },
     "metadata": {},
     "output_type": "display_data"
    }
   ],
   "source": [
    "#Obtenemos solamente los polos que tienen parte real negativa (los del lado izquierdo del diagrama de polos)\n",
    "useful_poles_f = [p for p in poles_f if np.real(p) < 0]\n",
    "\n",
    "#Obtenemos los ceros  que tienen parte real negativa\n",
    "useful_zeros_f = [z for z in zeros_f if np.real(z) < 0]\n",
    "\n",
    "\n",
    "display('ceros: ', [zero/(2*np.pi) for zero  in list(useful_zeros_f)] )\n",
    "display('polos del lado izquierdo: ',  [pole/(2*np.pi) for pole  in list(useful_poles_f)])\n",
    "\n",
    "\n",
    "#Hacemos el diagrama de polos y ceros\n",
    "plot_pz_map(useful_zeros_f,useful_poles_f)\n",
    "\n",
    "def H(s):\n",
    "    num = np.ones_like(s)\n",
    "    den = np.ones_like(s)\n",
    "    for z in useful_zeros_f:\n",
    "        num *= (s - z)\n",
    "    for p in useful_poles_f:\n",
    "        den *= (s - p)\n",
    "    return num / den\n",
    "\n",
    "\n",
    "plot_transfer_heatmap(H,useful_poles_f,useful_zeros_f)"
   ]
  },
  {
   "cell_type": "code",
   "execution_count": 22,
   "id": "04a86322",
   "metadata": {},
   "outputs": [
    {
     "name": "stdout",
     "output_type": "stream",
     "text": [
      "La ganancia es:  (0.9772371774743589+1.0997832517497724e-27j)\n"
     ]
    },
    {
     "data": {
      "image/png": "[encoded data removed]",
      "text/plain": [
       "<Figure size 1400x500 with 2 Axes>"
      ]
     },
     "metadata": {},
     "output_type": "display_data"
    }
   ],
   "source": [
    "#Obtenemos la respuesta en frecuencia \n",
    "\n",
    "#Par\n",
    "if N%2 == 0:\n",
    "    gain = np.cumprod(useful_poles_f)[-1]*(Gp)/np.cumprod(useful_zeros_f)[-1] #Magic number?? Cómo es que a veces va Gp y otras no...\n",
    "#Impar\n",
    "else:\n",
    "    gain = np.cumprod(useful_poles_f)[-1]*(1)/np.cumprod(useful_zeros_f)[-1] #Magic number?? Cómo es que a veces va Gp y otras no...\n",
    "\n",
    "print('La ganancia es: ', gain)\n",
    "\n",
    "#Define un sistema de scipy a través de los ceros, polos y ganancia \n",
    "tf = signal.ZerosPolesGain(useful_zeros_f, useful_poles_f, gain )\n",
    "\n",
    "\n",
    "w_axis = np.linspace(0,10e3*2*np.pi,150000)\n",
    "\n",
    "w_axis, mag, phase = signal.bode(tf, w = w_axis)\n",
    "mag_en_veces = 10**(mag/20)\n",
    "plot_bode(mag_en_veces, w_axis,  plantilla_values = plantilla_values, \n",
    "          xlim1=[0, 10e3*2*np.pi], ylim1=[0, Gp],\n",
    "          xlim2=[1, 10e3*2*np.pi], ylim2=[0, 1.5*Ga])"
   ]
  },
  {
   "cell_type": "code",
   "execution_count": 23,
   "id": "24fa1aa1",
   "metadata": {},
   "outputs": [],
   "source": [
    "#Transforma a pasa banda\n",
    "\n",
    "\n"
   ]
  }
 ],
 "metadata": {
  "kernelspec": {
   "display_name": ".venv",
   "language": "python",
   "name": "python3"
  },
  "language_info": {
   "codemirror_mode": {
    "name": "ipython",
    "version": 3
   },
   "file_extension": ".py",
   "mimetype": "text/x-python",
   "name": "python",
   "nbconvert_exporter": "python",
   "pygments_lexer": "ipython3",
   "version": "3.12.0"
  }
 },
 "nbformat": 4,
 "nbformat_minor": 5
}
