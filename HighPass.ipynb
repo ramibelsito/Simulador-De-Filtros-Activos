{
 "cells": [
  {
   "cell_type": "markdown",
   "id": "faac676b",
   "metadata": {},
   "source": [
    "Funcion de Transferencia de High-Passs"
   ]
  },
  {
   "cell_type": "code",
   "execution_count": 1,
   "id": "d7c1a36c",
   "metadata": {},
   "outputs": [
    {
     "name": "stdout",
     "output_type": "stream",
     "text": [
      "Requirement already satisfied: pyqt5 in c:\\users\\samma\\onedrive\\documentos\\itba\\tc2\\tp4\\code\\simulador-de-filtros-activos\\.venv\\lib\\site-packages (5.15.11)\n",
      "Requirement already satisfied: PyQt5-sip<13,>=12.15 in c:\\users\\samma\\onedrive\\documentos\\itba\\tc2\\tp4\\code\\simulador-de-filtros-activos\\.venv\\lib\\site-packages (from pyqt5) (12.17.0)\n",
      "Requirement already satisfied: PyQt5-Qt5<5.16.0,>=5.15.2 in c:\\users\\samma\\onedrive\\documentos\\itba\\tc2\\tp4\\code\\simulador-de-filtros-activos\\.venv\\lib\\site-packages (from pyqt5) (5.15.2)\n"
     ]
    },
    {
     "name": "stderr",
     "output_type": "stream",
     "text": [
      "\n",
      "[notice] A new release of pip is available: 25.0.1 -> 25.1.1\n",
      "[notice] To update, run: python.exe -m pip install --upgrade pip\n"
     ]
    }
   ],
   "source": [
    "!pip install pyqt5\n",
    "import sympy as ss\n",
    "from sympy import *\n",
    "import numpy as np\n",
    "import matplotlib.pyplot as plt\n",
    "from IPython.display import display, Math\n",
    "%matplotlib qt"
   ]
  },
  {
   "cell_type": "code",
   "execution_count": 2,
   "id": "abd83a84",
   "metadata": {},
   "outputs": [
    {
     "data": {
      "text/latex": [
       "$\\displaystyle T(s) = \\frac{n_{2} \\left(\\omega_{z}^{2} + s^{2}\\right)}{s^{2} + w_{o}^{2} + \\frac{s w_{o}}{Q}}$"
      ],
      "text/plain": [
       "<IPython.core.display.Math object>"
      ]
     },
     "metadata": {},
     "output_type": "display_data"
    },
    {
     "data": {
      "text/latex": [
       "$\\displaystyle T(s) = \\frac{n_{2} \\left(\\frac{n_{0}}{n_{2}} + s^{2}\\right)}{s^{2} + w_{o}^{2} + \\frac{s w_{o}}{Q}}$"
      ],
      "text/plain": [
       "<IPython.core.display.Math object>"
      ]
     },
     "metadata": {},
     "output_type": "display_data"
    },
    {
     "data": {
      "text/latex": [
       "$\\displaystyle n_2 = \\frac{- C_{21} R_{b} R_{a1} + C_{22} R_{b} R_{a2} + C_{22} R_{a1} R_{a2}}{R_{a1} R_{a2} \\left(C_{21} + C_{22}\\right)}$"
      ],
      "text/plain": [
       "<IPython.core.display.Math object>"
      ]
     },
     "metadata": {},
     "output_type": "display_data"
    },
    {
     "data": {
      "text/latex": [
       "$\\displaystyle n_0 = \\frac{R_{b} R_{41} R_{a2} - R_{b} R_{42} R_{a1} + R_{41} R_{a1} R_{a2}}{C_{3} R_{1} R_{41} R_{42} R_{a1} R_{a2} \\left(C_{21} + C_{22}\\right)}$"
      ],
      "text/plain": [
       "<IPython.core.display.Math object>"
      ]
     },
     "metadata": {},
     "output_type": "display_data"
    },
    {
     "data": {
      "text/latex": [
       "$\\displaystyle w_o = \\frac{\\sqrt{R_{41} + R_{42}}}{\\sqrt{C_{3}} \\sqrt{R_{1}} \\sqrt{R_{41}} \\sqrt{R_{42}} \\sqrt{C_{21} + C_{22}}}$"
      ],
      "text/plain": [
       "<IPython.core.display.Math object>"
      ]
     },
     "metadata": {},
     "output_type": "display_data"
    },
    {
     "data": {
      "text/latex": [
       "$\\displaystyle Q = \\frac{\\sqrt{C_{3}} \\sqrt{R_{1}} \\sqrt{R_{41}} \\sqrt{R_{42}} R_{a1} R_{a2} \\sqrt{C_{21} + C_{22}} \\sqrt{R_{41} + R_{42}}}{- C_{3} R_{b} R_{41} R_{42} \\left(R_{a1} + R_{a2}\\right) + R_{1} R_{a1} R_{a2} \\left(R_{41} + R_{42}\\right) \\left(C_{3} + C_{21} + C_{22}\\right)}$"
      ],
      "text/plain": [
       "<IPython.core.display.Math object>"
      ]
     },
     "metadata": {},
     "output_type": "display_data"
    },
    {
     "data": {
      "text/latex": [
       "$\\displaystyle T(s) = \\frac{\\left(s^{2} + \\frac{R_{b} R_{41} R_{a2} - R_{b} R_{42} R_{a1} + R_{41} R_{a1} R_{a2}}{C_{3} R_{1} R_{41} R_{42} \\left(- C_{21} R_{b} R_{a1} + C_{22} R_{b} R_{a2} + C_{22} R_{a1} R_{a2}\\right)}\\right) \\left(- C_{21} R_{b} R_{a1} + C_{22} R_{b} R_{a2} + C_{22} R_{a1} R_{a2}\\right)}{R_{a1} R_{a2} \\left(C_{21} + C_{22}\\right) \\left(s^{2} + \\frac{R_{41} + R_{42}}{C_{3} R_{1} R_{41} R_{42} \\left(C_{21} + C_{22}\\right)} + \\frac{s \\left(- C_{3} R_{b} R_{41} R_{42} \\left(R_{a1} + R_{a2}\\right) + R_{1} R_{a1} R_{a2} \\left(R_{41} + R_{42}\\right) \\left(C_{3} + C_{21} + C_{22}\\right)\\right)}{C_{3} R_{1} R_{41} R_{42} R_{a1} R_{a2} \\left(C_{21} + C_{22}\\right)}\\right)}$"
      ],
      "text/plain": [
       "<IPython.core.display.Math object>"
      ]
     },
     "metadata": {},
     "output_type": "display_data"
    },
    {
     "data": {
      "text/latex": [
       "$\\displaystyle T(jw) = \\frac{\\left(- \\omega^{2} + \\frac{R_{b} R_{41} R_{a2} - R_{b} R_{42} R_{a1} + R_{41} R_{a1} R_{a2}}{C_{3} R_{1} R_{41} R_{42} \\left(- C_{21} R_{b} R_{a1} + C_{22} R_{b} R_{a2} + C_{22} R_{a1} R_{a2}\\right)}\\right) \\left(- C_{21} R_{b} R_{a1} + C_{22} R_{b} R_{a2} + C_{22} R_{a1} R_{a2}\\right)}{R_{a1} R_{a2} \\left(C_{21} + C_{22}\\right) \\left(- \\omega^{2} + \\frac{R_{41} + R_{42}}{C_{3} R_{1} R_{41} R_{42} \\left(C_{21} + C_{22}\\right)} + \\frac{i \\omega \\left(- C_{3} R_{b} R_{41} R_{42} \\left(R_{a1} + R_{a2}\\right) + R_{1} R_{a1} R_{a2} \\left(R_{41} + R_{42}\\right) \\left(C_{3} + C_{21} + C_{22}\\right)\\right)}{C_{3} R_{1} R_{41} R_{42} R_{a1} R_{a2} \\left(C_{21} + C_{22}\\right)}\\right)}$"
      ],
      "text/plain": [
       "<IPython.core.display.Math object>"
      ]
     },
     "metadata": {},
     "output_type": "display_data"
    },
    {
     "data": {
      "text/latex": [
       "$\\displaystyle |T(jw)| = \\frac{\\left|{\\frac{\\left(\\omega^{2} - \\frac{R_{b} R_{41} R_{a2} - R_{b} R_{42} R_{a1} + R_{41} R_{a1} R_{a2}}{C_{3} R_{1} R_{41} R_{42} \\left(- C_{21} R_{b} R_{a1} + C_{22} R_{b} R_{a2} + C_{22} R_{a1} R_{a2}\\right)}\\right) \\left(- C_{21} R_{b} R_{a1} + C_{22} R_{b} R_{a2} + C_{22} R_{a1} R_{a2}\\right)}{\\omega^{2} - \\frac{R_{41} + R_{42}}{C_{3} R_{1} R_{41} R_{42} \\left(C_{21} + C_{22}\\right)} + \\frac{i \\omega \\left(C_{3} R_{b} R_{41} R_{42} \\left(R_{a1} + R_{a2}\\right) - R_{1} R_{a1} R_{a2} \\left(R_{41} + R_{42}\\right) \\left(C_{3} + C_{21} + C_{22}\\right)\\right)}{C_{3} R_{1} R_{41} R_{42} R_{a1} R_{a2} \\left(C_{21} + C_{22}\\right)}}}\\right|}{R_{a1} R_{a2} \\left(C_{21} + C_{22}\\right)}$"
      ],
      "text/plain": [
       "<IPython.core.display.Math object>"
      ]
     },
     "metadata": {},
     "output_type": "display_data"
    }
   ],
   "source": [
    "# Definición de símbolos\n",
    "wo, Q = ss.symbols(r'\\omega_o Q')\n",
    "Ga1, Ga2, Gb, G1, G41, G42 = ss.symbols('G_{a1} G_{a2} G_b G_1 G_{41} G_{42}', positive=True)\n",
    "C3, C22, C21 = ss.symbols('C_3 C_{22} C_{21}', positive=True)\n",
    "Ra1, Ra2, Rb, R1, R41, R42 = ss.symbols('R_{a1} R_{a2} R_b R_1 R_{41} R_{42}', positive=True)\n",
    "n2_sym, n0_sym, s = ss.symbols('n_2 n_0 s')\n",
    "T, wz = ss.symbols(r'T \\omega_z')\n",
    "Q_sym, wo_sym = ss.symbols(r'Q w_o')\n",
    "\n",
    "# Conductancias a resistencias\n",
    "reemplazo = {\n",
    "    G1: 1 / R1, G41: 1 / R41, G42: 1 / R42,\n",
    "    Ga1: 1 / Ra1, Ga2: 1 / Ra2, Gb: 1 / Rb\n",
    "}\n",
    "\n",
    "# Transferencia simbólica\n",
    "T_expr = (n2_sym*(s**2 + wz**2))/(s**2 + s*(wo_sym/Q_sym) + wo_sym**2)\n",
    "display(Math(\"T(s) = \" + latex(T_expr)))\n",
    "\n",
    "# wz = sqrt(n0/n2)\n",
    "T_mod = T_expr.subs(wz, ss.sqrt(n0_sym/n2_sym))\n",
    "display(Math(\"T(s) = \" + latex(T_mod)))\n",
    "\n",
    "# Definición de n2 y n0 (como expresiones nuevas)\n",
    "n2_expr = ((Ga1+Ga2+Gb)/Gb)*(C22/(C21 + C22)) - (Ga2/Gb)\n",
    "n0_expr = (G1*(G42+G41))/(C3*(C21 + C22)) * ((G42/(G41+G42))*((Ga1+Ga2+Gb)/Gb)-(Ga2/Gb))\n",
    "wo_expr = ss.sqrt((G1 * (G41 + G42)) / (C3 * (C21 + C22)))\n",
    "Q_expr = ss.sqrt((G1 * (G41 + G42)) / (C3 * (C21 + C22))) *(1/ (  (G41 + G42) * (1 / (C21 + C22) + 1 / C3)- (G1 / (C21 + C22)) * ((Ga1 + Ga2) / Gb)))\n",
    "\n",
    "# Reemplazar conductancias por resistencias\n",
    "n2_res = n2_expr.subs(reemplazo).simplify()\n",
    "n0_res = n0_expr.subs(reemplazo).simplify()\n",
    "wo_res = wo_expr.subs(reemplazo).simplify()\n",
    "Q_res   = Q_expr.subs(reemplazo).simplify()\n",
    "\n",
    "# Sustituir en T\n",
    "T_mod2 = T_mod.subs({\n",
    "    n2_sym: n2_res,\n",
    "    n0_sym: n0_res,\n",
    "    wo_sym: wo_res,\n",
    "    Q_sym: Q_res\n",
    "})\n",
    "\n",
    "# Mostrar resultados\n",
    "display(Math(\"n_2 = \" + latex(n2_res)))\n",
    "display(Math(\"n_0 = \" + latex(n0_res)))\n",
    "display(Math(\"w_o = \" + latex(wo_res)))\n",
    "display(Math(\"Q = \" + latex(Q_res)))\n",
    "display(Math(\"T(s) = \" + latex(T_mod2)))\n",
    "\n",
    "w = ss.symbols(r'\\omega')\n",
    "j = ss.I  # Unidad imaginaria\n",
    "\n",
    "# Sustituir s = j*w\n",
    "T_jw = T_mod2.subs(s, j*w)\n",
    "display(Math(\"T(jw) = \" + latex(T_jw)))\n",
    "\n",
    "# Calculo en dB\n",
    "T_mod = ss.Abs(T_jw)\n",
    "display(Math(r\"|T(jw)| = \" + latex(T_mod)))\n"
   ]
  },
  {
   "cell_type": "markdown",
   "id": "ea883e7b",
   "metadata": {},
   "source": [
    "Reemplazo numericos\n"
   ]
  },
  {
   "cell_type": "code",
   "execution_count": 3,
   "id": "1b600057",
   "metadata": {},
   "outputs": [
    {
     "data": {
      "text/latex": [
       "$\\displaystyle |T(jw)| = 0.248797558352433 \\left|{\\frac{\\omega^{2} - 18683885.74981}{- \\omega^{2} + 2709.43848968119 i \\omega + 179451343.044671}}\\right|$"
      ],
      "text/plain": [
       "<IPython.core.display.Math object>"
      ]
     },
     "metadata": {},
     "output_type": "display_data"
    }
   ],
   "source": [
    "valores = {\n",
    "    Ra1: 63.7e3,\n",
    "    Ra2: 408e3,\n",
    "    Rb: 330,\n",
    "    R1: 70.2,\n",
    "    R41: 4.61e3,\n",
    "    R42: 169e3,\n",
    "    C3: 133e-9,\n",
    "    C22: 33e-9,\n",
    "    C21: 100e-9\n",
    "}\n",
    "\n",
    "T_mod_num = T_mod.evalf(subs=valores)\n",
    "display(Math(r\"|T(jw)| = \" + latex(T_mod_num)))"
   ]
  },
  {
   "cell_type": "markdown",
   "id": "f15a8516",
   "metadata": {},
   "source": [
    "Obtengo polos y ceros y ganancias\n"
   ]
  },
  {
   "cell_type": "code",
   "execution_count": 4,
   "id": "67053d91",
   "metadata": {},
   "outputs": [
    {
     "data": {
      "text/latex": [
       "$\\displaystyle f_o = 2132.03086771118$"
      ],
      "text/plain": [
       "<IPython.core.display.Math object>"
      ]
     },
     "metadata": {},
     "output_type": "display_data"
    },
    {
     "data": {
      "text/latex": [
       "$\\displaystyle f_z = 687.94502309577$"
      ],
      "text/plain": [
       "<IPython.core.display.Math object>"
      ]
     },
     "metadata": {},
     "output_type": "display_data"
    },
    {
     "data": {
      "text/latex": [
       "$\\displaystyle Q = 4.94417757534422$"
      ],
      "text/plain": [
       "<IPython.core.display.Math object>"
      ]
     },
     "metadata": {},
     "output_type": "display_data"
    },
    {
     "data": {
      "text/latex": [
       "$\\displaystyle Gain(dB) = -31.7326679219557\\ dB$"
      ],
      "text/plain": [
       "<IPython.core.display.Math object>"
      ]
     },
     "metadata": {},
     "output_type": "display_data"
    }
   ],
   "source": [
    "n2_num = n2_res.evalf(subs=valores)\n",
    "n0_num = n0_res.evalf(subs=valores)\n",
    "wo_num = wo_res.evalf(subs=valores)\n",
    "Q_num = Q_res.evalf(subs=valores)\n",
    "wz = ss.sqrt( (n0_num/n2_num))\n",
    "Gain = n0_num/(wo_num)**2\n",
    "Gain_db = 20 * np.log10(float(Gain))\n",
    "\n",
    "\n",
    "import math\n",
    "twopi = 2*math.pi\n",
    "fo= wo_num/twopi\n",
    "fz = wz/twopi\n",
    "\n",
    "display(Math(r\"f_o = \" + latex(fo)))\n",
    "display(Math(r\"f_z = \" + latex(fz)) )\n",
    "display(Math(r\"Q = \" + latex(Q_num)))\n",
    "display(Math(r\"Gain(dB) = \" + latex(Gain_db) + r\"\\ dB\") )\n"
   ]
  },
  {
   "attachments": {
    "image.png": {
     "image/png": "[encoded data removed]"
    }
   },
   "cell_type": "markdown",
   "id": "23fe739b",
   "metadata": {},
   "source": [
    "![image.png](attachment:image.png)"
   ]
  },
  {
   "cell_type": "code",
   "execution_count": 5,
   "id": "469c9da2",
   "metadata": {},
   "outputs": [
    {
     "data": {
      "text/latex": [
       "$\\displaystyle T_{dB}(10Hz) = -31.7343162361704$"
      ],
      "text/plain": [
       "<IPython.core.display.Math object>"
      ]
     },
     "metadata": {},
     "output_type": "display_data"
    },
    {
     "data": {
      "text/latex": [
       "$\\displaystyle T_{dB}(fo) = 0.843832088990754$"
      ],
      "text/plain": [
       "<IPython.core.display.Math object>"
      ]
     },
     "metadata": {},
     "output_type": "display_data"
    },
    {
     "data": {
      "text/latex": [
       "$\\displaystyle T_{dB}(100kHz) = -12.0796205193309$"
      ],
      "text/plain": [
       "<IPython.core.display.Math object>"
      ]
     },
     "metadata": {},
     "output_type": "display_data"
    }
   ],
   "source": [
    "T_db_10 = 20*np.log10(float(T_mod_num.subs(w, 10*twopi)))\n",
    "display(Math(r\"T_{dB}(10Hz) = \" + latex(T_db_10)))\n",
    "\n",
    "\n",
    "T_db_fo = 20*np.log10(float(T_mod_num.subs(w, fo*twopi)))\n",
    "display(Math(r\"T_{dB}(fo) = \" + latex(T_db_fo)))\n",
    "\n",
    "T_db_100k = 20*np.log10(float(T_mod_num.subs(w, 100e3*twopi)))\n",
    "display(Math(r\"T_{dB}(100kHz) = \" + latex(T_db_100k)))"
   ]
  },
  {
   "cell_type": "code",
   "execution_count": 6,
   "id": "efd9c19d",
   "metadata": {},
   "outputs": [],
   "source": [
    "f = ss.symbols('f')\n",
    "T_mod_grap = 0.248797558352433 * ss.Abs(((twopi*f)**2 - 18683885.74981) / (-(twopi*f)**2 + 2709.43848968119*ss.I*(twopi*f) + 179451343.044671))\n",
    "\n",
    "fa_m = 727.27     # fa-\n",
    "fp_m = 2.16e3     # fp-\n",
    "fo   = 2.4e3    # fo\n",
    "fp_p = 2.667e3    # fp+\n",
    "fa_p = 7.92e3   # fa+\n",
    "\n",
    "\n",
    "\n",
    "# Convertimos a función numérica evaluable\n",
    "T_mod_func = ss.lambdify(f, T_mod_grap, modules='numpy')\n",
    "\n",
    "frecs = [fa_m, fp_m, fo, fp_p, fa_p]\n",
    "dB_vals = 20 * np.log10(np.abs(T_mod_func(np.array(frecs))))\n",
    "# Dominio de frecuencias\n",
    "w_vals = np.linspace(1, 100e3, 10000)\n",
    "\n",
    "# Evaluación y conversión a decibeles\n",
    "T_vals = T_mod_func(w_vals)\n",
    "T_db = 20 * np.log10(np.abs(T_vals))\n",
    "\n",
    "# Graficar\n",
    "plt.figure(figsize=(8, 5))\n",
    "plt.plot(w_vals, T_db)\n",
    "\n",
    "# Marcar frecuencias\n",
    "for f, db in zip(frecs, dB_vals):\n",
    "    plt.plot(f, db, 'ro')  # punto rojo\n",
    "    plt.annotate(f'{db:.2f} dB', xy=(f, db), xytext=(5, 5),\n",
    "                 textcoords='offset points', color='red', fontsize=9)\n",
    "\n",
    "plt.title(r'$20 \\log_{10}(|T(j2\\pi f)|)$')\n",
    "plt.ylabel('Magnitud (dB)')\n",
    "plt.grid(True)\n",
    "plt.tight_layout()\n",
    "plt.xscale('log')\n",
    "plt.grid(True, which='both', linestyle='--')  \n",
    "plt.minorticks_on()                          \n",
    "plt.show()\n"
   ]
  },
  {
   "attachments": {
    "hp1medicion1.png": {
     "image/png": "[encoded data removed]"
    }
   },
   "cell_type": "markdown",
   "id": "b39f9d7b",
   "metadata": {},
   "source": [
    "![hp1medicion1.png](attachment:hp1medicion1.png)"
   ]
  }
 ],
 "metadata": {
  "kernelspec": {
   "display_name": ".venv",
   "language": "python",
   "name": "python3"
  },
  "language_info": {
   "codemirror_mode": {
    "name": "ipython",
    "version": 3
   },
   "file_extension": ".py",
   "mimetype": "text/x-python",
   "name": "python",
   "nbconvert_exporter": "python",
   "pygments_lexer": "ipython3",
   "version": "3.13.3"
  }
 },
 "nbformat": 4,
 "nbformat_minor": 5
}
