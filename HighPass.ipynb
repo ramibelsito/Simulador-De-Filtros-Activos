{
 "cells": [
  {
   "cell_type": "markdown",
   "id": "faac676b",
   "metadata": {},
   "source": [
    "Funcion de Transferencia de High-Passs"
   ]
  },
  {
   "cell_type": "code",
   "execution_count": 10,
   "id": "d7c1a36c",
   "metadata": {},
   "outputs": [
    {
     "name": "stdout",
     "output_type": "stream",
     "text": [
      "Requirement already satisfied: matplotlib in c:\\users\\samma\\onedrive\\documentos\\itba\\tc2\\tp4\\code\\simulador-de-filtros-activos\\.venv\\lib\\site-packages (3.10.3)\n",
      "Requirement already satisfied: contourpy>=1.0.1 in c:\\users\\samma\\onedrive\\documentos\\itba\\tc2\\tp4\\code\\simulador-de-filtros-activos\\.venv\\lib\\site-packages (from matplotlib) (1.3.2)\n",
      "Requirement already satisfied: cycler>=0.10 in c:\\users\\samma\\onedrive\\documentos\\itba\\tc2\\tp4\\code\\simulador-de-filtros-activos\\.venv\\lib\\site-packages (from matplotlib) (0.12.1)\n",
      "Requirement already satisfied: fonttools>=4.22.0 in c:\\users\\samma\\onedrive\\documentos\\itba\\tc2\\tp4\\code\\simulador-de-filtros-activos\\.venv\\lib\\site-packages (from matplotlib) (4.58.0)\n",
      "Requirement already satisfied: kiwisolver>=1.3.1 in c:\\users\\samma\\onedrive\\documentos\\itba\\tc2\\tp4\\code\\simulador-de-filtros-activos\\.venv\\lib\\site-packages (from matplotlib) (1.4.8)\n",
      "Requirement already satisfied: numpy>=1.23 in c:\\users\\samma\\onedrive\\documentos\\itba\\tc2\\tp4\\code\\simulador-de-filtros-activos\\.venv\\lib\\site-packages (from matplotlib) (2.2.6)\n",
      "Requirement already satisfied: packaging>=20.0 in c:\\users\\samma\\onedrive\\documentos\\itba\\tc2\\tp4\\code\\simulador-de-filtros-activos\\.venv\\lib\\site-packages (from matplotlib) (25.0)\n",
      "Requirement already satisfied: pillow>=8 in c:\\users\\samma\\onedrive\\documentos\\itba\\tc2\\tp4\\code\\simulador-de-filtros-activos\\.venv\\lib\\site-packages (from matplotlib) (11.2.1)\n",
      "Requirement already satisfied: pyparsing>=2.3.1 in c:\\users\\samma\\onedrive\\documentos\\itba\\tc2\\tp4\\code\\simulador-de-filtros-activos\\.venv\\lib\\site-packages (from matplotlib) (3.2.3)\n",
      "Requirement already satisfied: python-dateutil>=2.7 in c:\\users\\samma\\onedrive\\documentos\\itba\\tc2\\tp4\\code\\simulador-de-filtros-activos\\.venv\\lib\\site-packages (from matplotlib) (2.9.0.post0)\n",
      "Requirement already satisfied: six>=1.5 in c:\\users\\samma\\onedrive\\documentos\\itba\\tc2\\tp4\\code\\simulador-de-filtros-activos\\.venv\\lib\\site-packages (from python-dateutil>=2.7->matplotlib) (1.17.0)\n",
      "Note: you may need to restart the kernel to use updated packages.\n"
     ]
    },
    {
     "name": "stderr",
     "output_type": "stream",
     "text": [
      "\n",
      "[notice] A new release of pip is available: 25.0.1 -> 25.1.1\n",
      "[notice] To update, run: python.exe -m pip install --upgrade pip\n"
     ]
    }
   ],
   "source": [
    "%pip install matplotlib\n",
    "import sympy as ss\n",
    "from sympy import *\n",
    "import matplotlib.pyplot as plt\n",
    "from IPython.display import display, Math"
   ]
  },
  {
   "cell_type": "code",
   "execution_count": null,
   "id": "abd83a84",
   "metadata": {},
   "outputs": [
    {
     "data": {
      "text/latex": [
       "$\\displaystyle T(s) = \\frac{n_{2} \\left(\\omega_{z}^{2} + s^{2}\\right)}{\\omega_{o}^{2} + s^{2} + \\frac{\\omega_{o} s}{Q}}$"
      ],
      "text/plain": [
       "<IPython.core.display.Math object>"
      ]
     },
     "metadata": {},
     "output_type": "display_data"
    },
    {
     "data": {
      "text/latex": [
       "$\\displaystyle T(s) = \\frac{n_{2} \\left(\\frac{n_{0}}{n_{2}} + s^{2}\\right)}{\\omega_{o}^{2} + s^{2} + \\frac{\\omega_{o} s}{Q}}$"
      ],
      "text/plain": [
       "<IPython.core.display.Math object>"
      ]
     },
     "metadata": {},
     "output_type": "display_data"
    },
    {
     "data": {
      "text/latex": [
       "$\\displaystyle n_2 = \\frac{- C_{21} R_{b} R_{a1} + C_{22} R_{b} R_{a2} + C_{22} R_{a1} R_{a2}}{R_{a1} R_{a2} \\left(C_{21} + C_{22}\\right)}$"
      ],
      "text/plain": [
       "<IPython.core.display.Math object>"
      ]
     },
     "metadata": {},
     "output_type": "display_data"
    },
    {
     "data": {
      "text/latex": [
       "$\\displaystyle n_0 = \\frac{R_{b} R_{41} R_{a2} - R_{b} R_{42} R_{a1} + R_{41} R_{a1} R_{a2}}{C_{3} R_{1} R_{41} R_{42} R_{a1} R_{a2} \\left(C_{21} + C_{22}\\right)}$"
      ],
      "text/plain": [
       "<IPython.core.display.Math object>"
      ]
     },
     "metadata": {},
     "output_type": "display_data"
    },
    {
     "data": {
      "text/latex": [
       "$\\displaystyle T(s) = \\frac{\\left(s^{2} + \\frac{R_{b} R_{41} R_{a2} - R_{b} R_{42} R_{a1} + R_{41} R_{a1} R_{a2}}{C_{3} R_{1} R_{41} R_{42} \\left(- C_{21} R_{b} R_{a1} + C_{22} R_{b} R_{a2} + C_{22} R_{a1} R_{a2}\\right)}\\right) \\left(- C_{21} R_{b} R_{a1} + C_{22} R_{b} R_{a2} + C_{22} R_{a1} R_{a2}\\right)}{R_{a1} R_{a2} \\left(C_{21} + C_{22}\\right) \\left(\\omega_{o}^{2} + s^{2} + \\frac{\\omega_{o} s}{Q}\\right)}$"
      ],
      "text/plain": [
       "<IPython.core.display.Math object>"
      ]
     },
     "metadata": {},
     "output_type": "display_data"
    },
    {
     "data": {
      "text/latex": [
       "$\\displaystyle T(jw) = \\frac{\\left(- \\omega^{2} + \\frac{R_{b} R_{41} R_{a2} - R_{b} R_{42} R_{a1} + R_{41} R_{a1} R_{a2}}{C_{3} R_{1} R_{41} R_{42} \\left(- C_{21} R_{b} R_{a1} + C_{22} R_{b} R_{a2} + C_{22} R_{a1} R_{a2}\\right)}\\right) \\left(- C_{21} R_{b} R_{a1} + C_{22} R_{b} R_{a2} + C_{22} R_{a1} R_{a2}\\right)}{R_{a1} R_{a2} \\left(C_{21} + C_{22}\\right) \\left(- \\omega^{2} + \\omega_{o}^{2} + \\frac{i \\omega \\omega_{o}}{Q}\\right)}$"
      ],
      "text/plain": [
       "<IPython.core.display.Math object>"
      ]
     },
     "metadata": {},
     "output_type": "display_data"
    },
    {
     "data": {
      "text/latex": [
       "$\\displaystyle |T(jw)|_{db} = 20 \\log{\\left(\\frac{\\left|{\\frac{\\left(\\omega^{2} - \\frac{R_{b} R_{41} R_{a2} - R_{b} R_{42} R_{a1} + R_{41} R_{a1} R_{a2}}{C_{3} R_{1} R_{41} R_{42} \\left(- C_{21} R_{b} R_{a1} + C_{22} R_{b} R_{a2} + C_{22} R_{a1} R_{a2}\\right)}\\right) \\left(- C_{21} R_{b} R_{a1} + C_{22} R_{b} R_{a2} + C_{22} R_{a1} R_{a2}\\right)}{- \\omega^{2} + \\omega_{o}^{2} + \\frac{i \\omega \\omega_{o}}{Q}}}\\right|}{R_{a1} R_{a2} \\left(C_{21} + C_{22}\\right)} \\right)}$"
      ],
      "text/plain": [
       "<IPython.core.display.Math object>"
      ]
     },
     "metadata": {},
     "output_type": "display_data"
    }
   ],
   "source": [
    "# Definición de símbolos\n",
    "wo, Q = ss.symbols(r'\\omega_o Q')\n",
    "Ga1, Ga2, Gb, G1, G41, G42 = ss.symbols('G_{a1} G_{a2} G_b G_1 G_{41} G_{42}', positive=True)\n",
    "C3, C22, C21 = ss.symbols('C_3 C_{22} C_{21}', positive=True)\n",
    "Ra1, Ra2, Rb, R1, R41, R42 = ss.symbols('R_{a1} R_{a2} R_b R_1 R_{41} R_{42}', positive=True)\n",
    "n2_sym, n0_sym, s = ss.symbols('n_2 n_0 s')\n",
    "T, wz = ss.symbols(r'T \\omega_z')\n",
    "Q_sym, wz_sym = ss.symbols(r'Q \\omega_z')\n",
    "\n",
    "# Conductancias a resistencias\n",
    "reemplazo = {\n",
    "    G1: 1 / R1, G41: 1 / R41, G42: 1 / R42,\n",
    "    Ga1: 1 / Ra1, Ga2: 1 / Ra2, Gb: 1 / Rb\n",
    "}\n",
    "\n",
    "# Transferencia simbólica\n",
    "T_expr = (n2_sym*(s**2 + wz_sym**2))/(s**2 + s*(wo_sym/Q_sym) + wo_sym**2)\n",
    "display(Math(\"T(s) = \" + latex(T_expr)))\n",
    "\n",
    "# wz = sqrt(n0/n2)\n",
    "T_mod = T_expr.subs(wz, ss.sqrt(n0_sym/n2_sym))\n",
    "display(Math(\"T(s) = \" + latex(T_mod)))\n",
    "\n",
    "# Definición de n2 y n0 (como expresiones nuevas)\n",
    "n2_expr = ((Ga1+Ga2+Gb)/Gb)*(C22/(C21 + C22)) - (Ga2/Gb)\n",
    "n0_expr = (G1*(G42+G41))/(C3*(C21 + C22)) * ((G42/(G41+G42))*((Ga1+Ga2+Gb)/Gb)-(Ga2/Gb))\n",
    "wo_expr = ss.sqrt((G1 * (G41 + G42)) / (C3 * (C21 + C22)))\n",
    "Q_expr = wo * (  (G41 + G42) * (1 / (C21 + C22) + 1 / C3)- (G1 / (C21 + C22)) * ((Ga1 + Ga2) / Gb))\n",
    "\n",
    "# Reemplazar conductancias por resistencias\n",
    "n2_res = n2_expr.subs(reemplazo).simplify()\n",
    "n0_res = n0_expr.subs(reemplazo).simplify()\n",
    "w0_res = wo_expr.subs(reemplazo).simplify()\n",
    "Q_res = Q_expr.subs(reemplazo).simplify()\n",
    "\n",
    "# Sustituir en T\n",
    "T_mod2 = T_mod.subs({\n",
    "    n2_sym: n2_res,\n",
    "    n0_sym: n0_res,\n",
    "    w0_sym: w0_res,\n",
    "    Q_sym: Q_res\n",
    "})\n",
    "\n",
    "# Mostrar resultados\n",
    "display(Math(\"n_2 = \" + latex(n2_res)))\n",
    "display(Math(\"n_0 = \" + latex(n0_res)))\n",
    "display(Math(\"T(s) = \" + latex(T_mod2)))\n",
    "\n",
    "w = ss.symbols(r'\\omega')\n",
    "j = ss.I  # Unidad imaginaria\n",
    "\n",
    "# Sustituir s = j*w\n",
    "T_jw = T_mod2.subs(s, j*w)\n",
    "display(Math(\"T(jw) = \" + latex(T_jw)))\n",
    "\n",
    "# Calculo en dB\n",
    "T_db = 20*ss.log(ss.Abs(T_jw))\n",
    "display(Math(r\"|T(jw)|_{db} = \" + latex(T_db)))\n",
    "\n",
    "#Reemplazo de\n",
    "\n",
    "\n"
   ]
  },
  {
   "cell_type": "markdown",
   "id": "ea883e7b",
   "metadata": {},
   "source": [
    "Reemplazo numericos\n"
   ]
  },
  {
   "cell_type": "code",
   "execution_count": null,
   "id": "1b600057",
   "metadata": {},
   "outputs": [
    {
     "data": {
      "text/latex": [
       "$\\displaystyle |T(jw)|_{db} = 20.0 \\log{\\left(0.358732295694449 \\left|{\\frac{\\omega^{2} - 380508089.061302}{- \\omega^{2} + \\omega_{o}^{2} + \\frac{i \\omega \\omega_{o}}{Q}}}\\right| \\right)}$"
      ],
      "text/plain": [
       "<IPython.core.display.Math object>"
      ]
     },
     "metadata": {},
     "output_type": "display_data"
    }
   ],
   "source": [
    "valores = {\n",
    "    Ra1: 63.7e3,\n",
    "    Ra2: 408,\n",
    "    Rb: 330,\n",
    "    R1: 70.2,\n",
    "    R41: 4.61e3,\n",
    "    R42: 169e3,\n",
    "    C3: 133e-9,\n",
    "    C22: 33e-9,\n",
    "    C21: 100e-9\n",
    "}\n",
    "\n",
    "T_db_num = T_db.evalf(subs=valores)\n",
    "display(Math(r\"|T(jw)|_{db} = \" + latex(T_db_num)))\n",
    "\n",
    "# Definición de omega_0 y Q\n",
    "wo = ss.sqrt((G1 * (G41 + G42)) / (C3 * (C21 + C22)))\n",
    "\n",
    "Q = wo * (\n",
    "    (G41 + G42) * (1 / (C21 + C22) + 1 / C3)\n",
    "    - (G1 / (C21 + C22)) * ((Ga1 + Ga2) / Gb)\n",
    ")"
   ]
  }
 ],
 "metadata": {
  "kernelspec": {
   "display_name": ".venv",
   "language": "python",
   "name": "python3"
  },
  "language_info": {
   "codemirror_mode": {
    "name": "ipython",
    "version": 3
   },
   "file_extension": ".py",
   "mimetype": "text/x-python",
   "name": "python",
   "nbconvert_exporter": "python",
   "pygments_lexer": "ipython3",
   "version": "3.13.3"
  }
 },
 "nbformat": 4,
 "nbformat_minor": 5
}
