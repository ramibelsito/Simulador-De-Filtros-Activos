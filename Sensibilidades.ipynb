{
 "cells": [
  {
   "cell_type": "markdown",
   "id": "7ccb4f5c",
   "metadata": {},
   "source": [
    "El objetivo del siguiente codigo es calcular las Sensibilidades de Cada parametro con respecto a $w_o$ y $Q$"
   ]
  },
  {
   "cell_type": "code",
   "execution_count": null,
   "id": "4e3e9fcb",
   "metadata": {},
   "outputs": [
    {
     "name": "stdout",
     "output_type": "stream",
     "text": [
      "Requirement already satisfied: matplotlib in c:\\users\\samma\\onedrive\\documentos\\itba\\tc2\\tp4\\code\\simulador-de-filtros-activos\\.venv\\lib\\site-packages (3.10.3)\n",
      "Requirement already satisfied: contourpy>=1.0.1 in c:\\users\\samma\\onedrive\\documentos\\itba\\tc2\\tp4\\code\\simulador-de-filtros-activos\\.venv\\lib\\site-packages (from matplotlib) (1.3.2)\n",
      "Requirement already satisfied: cycler>=0.10 in c:\\users\\samma\\onedrive\\documentos\\itba\\tc2\\tp4\\code\\simulador-de-filtros-activos\\.venv\\lib\\site-packages (from matplotlib) (0.12.1)\n",
      "Requirement already satisfied: fonttools>=4.22.0 in c:\\users\\samma\\onedrive\\documentos\\itba\\tc2\\tp4\\code\\simulador-de-filtros-activos\\.venv\\lib\\site-packages (from matplotlib) (4.58.0)\n",
      "Requirement already satisfied: kiwisolver>=1.3.1 in c:\\users\\samma\\onedrive\\documentos\\itba\\tc2\\tp4\\code\\simulador-de-filtros-activos\\.venv\\lib\\site-packages (from matplotlib) (1.4.8)\n",
      "Requirement already satisfied: numpy>=1.23 in c:\\users\\samma\\onedrive\\documentos\\itba\\tc2\\tp4\\code\\simulador-de-filtros-activos\\.venv\\lib\\site-packages (from matplotlib) (2.2.6)\n",
      "Requirement already satisfied: packaging>=20.0 in c:\\users\\samma\\onedrive\\documentos\\itba\\tc2\\tp4\\code\\simulador-de-filtros-activos\\.venv\\lib\\site-packages (from matplotlib) (25.0)\n",
      "Requirement already satisfied: pillow>=8 in c:\\users\\samma\\onedrive\\documentos\\itba\\tc2\\tp4\\code\\simulador-de-filtros-activos\\.venv\\lib\\site-packages (from matplotlib) (11.2.1)\n",
      "Requirement already satisfied: pyparsing>=2.3.1 in c:\\users\\samma\\onedrive\\documentos\\itba\\tc2\\tp4\\code\\simulador-de-filtros-activos\\.venv\\lib\\site-packages (from matplotlib) (3.2.3)\n",
      "Requirement already satisfied: python-dateutil>=2.7 in c:\\users\\samma\\onedrive\\documentos\\itba\\tc2\\tp4\\code\\simulador-de-filtros-activos\\.venv\\lib\\site-packages (from matplotlib) (2.9.0.post0)\n",
      "Requirement already satisfied: six>=1.5 in c:\\users\\samma\\onedrive\\documentos\\itba\\tc2\\tp4\\code\\simulador-de-filtros-activos\\.venv\\lib\\site-packages (from python-dateutil>=2.7->matplotlib) (1.17.0)\n",
      "Note: you may need to restart the kernel to use updated packages.\n"
     ]
    },
    {
     "name": "stderr",
     "output_type": "stream",
     "text": [
      "\n",
      "[notice] A new release of pip is available: 25.0.1 -> 25.1.1\n",
      "[notice] To update, run: python.exe -m pip install --upgrade pip\n"
     ]
    }
   ],
   "source": [
    "%pip install matplotlib\n",
    "import sympy as ss\n",
    "from sympy import *\n",
    "import matplotlib.pyplot as plt\n",
    "from IPython.display import display, Math\n",
    "\n",
    "#init_printing()  # Habilita la impresión bonita si estás en Jupyter"
   ]
  },
  {
   "cell_type": "code",
   "execution_count": null,
   "id": "883afc84",
   "metadata": {},
   "outputs": [
    {
     "data": {
      "text/latex": [
       "$\\displaystyle \\frac{\\sqrt{R_{41} + R_{42}}}{\\sqrt{C_{3}} \\sqrt{R_{1}} \\sqrt{R_{41}} \\sqrt{R_{42}} \\sqrt{C_{21} + C_{22}}}$"
      ],
      "text/plain": [
       "sqrt(R_{41} + R_{42})/(sqrt(C_3)*sqrt(R_1)*sqrt(R_{41})*sqrt(R_{42})*sqrt(C_{21} + C_{22}))"
      ]
     },
     "execution_count": 15,
     "metadata": {},
     "output_type": "execute_result"
    }
   ],
   "source": [
    "# Definición de símbolos\n",
    "wo, Q = ss.symbols(r'\\omega_o Q')\n",
    "\n",
    "# Conductancias y capacitores\n",
    "Ga1, Ga2, Gb, G1, G41, G42 = ss.symbols('G_{a1} G_{a2} G_b G_1 G_{41} G_{42}', positive=True)\n",
    "C3, C22, C21 = ss.symbols('C_3 C_{22} C_{21}', positive=True)\n",
    "\n",
    "# Resistencias asociadas\n",
    "Ra1, Ra2, Rb, R1, R41, R42 = ss.symbols('R_{a1} R_{a2} R_b R_1 R_{41} R_{42}', positive=True)\n",
    "\n",
    "# Definición de omega_0 y Q\n",
    "wo = ss.sqrt((G1 * (G41 + G42)) / (C3 * (C21 + C22)))\n",
    "\n",
    "Q = wo * (\n",
    "    (G41 + G42) * (1 / (C21 + C22) + 1 / C3)\n",
    "    - (G1 / (C21 + C22)) * ((Ga1 + Ga2) / Gb)\n",
    ")\n",
    "\n",
    "# Sustitución de conductancias por resistencias\n",
    "subs_dict_Q = {\n",
    "    G1: 1 / R1,\n",
    "    G41: 1 / R41,\n",
    "    G42: 1 / R42,\n",
    "    Ga1: 1 / Ra1,\n",
    "    Ga2: 1 / Ra2,\n",
    "    Gb: 1 / Rb,\n",
    "}\n",
    "\n",
    "subs_dict_wo = {\n",
    "    G1: 1 / R1,\n",
    "    G41: 1 / R41,\n",
    "    G42: 1 / R42,\n",
    "}\n",
    "\n",
    "Q_res = Q.subs(subs_dict_Q).simplify()\n",
    "wo_res = wo.subs(subs_dict_wo).simplify()\n",
    "wo_res\n"
   ]
  },
  {
   "cell_type": "code",
   "execution_count": 16,
   "id": "4b2ba52b",
   "metadata": {},
   "outputs": [
    {
     "data": {
      "text/latex": [
       "$\\displaystyle \\frac{dwo}{dR_{a1}} = 0$"
      ],
      "text/plain": [
       "<IPython.core.display.Math object>"
      ]
     },
     "metadata": {},
     "output_type": "display_data"
    },
    {
     "data": {
      "text/latex": [
       "$\\displaystyle \\frac{dwo}{dR_{a2}} = 0$"
      ],
      "text/plain": [
       "<IPython.core.display.Math object>"
      ]
     },
     "metadata": {},
     "output_type": "display_data"
    },
    {
     "data": {
      "text/latex": [
       "$\\displaystyle \\frac{dwo}{dR_{b}} = 0$"
      ],
      "text/plain": [
       "<IPython.core.display.Math object>"
      ]
     },
     "metadata": {},
     "output_type": "display_data"
    },
    {
     "data": {
      "text/latex": [
       "$\\displaystyle \\frac{dwo}{dR_{41}} = - \\frac{\\sqrt{R_{42}}}{2 \\sqrt{C_{3}} \\sqrt{R_{1}} R_{41}^{\\frac{3}{2}} \\sqrt{C_{21} + C_{22}} \\sqrt{R_{41} + R_{42}}}$"
      ],
      "text/plain": [
       "<IPython.core.display.Math object>"
      ]
     },
     "metadata": {},
     "output_type": "display_data"
    },
    {
     "data": {
      "text/latex": [
       "$\\displaystyle \\frac{dwo}{dR_{42}} = - \\frac{\\sqrt{R_{41}}}{2 \\sqrt{C_{3}} \\sqrt{R_{1}} R_{42}^{\\frac{3}{2}} \\sqrt{C_{21} + C_{22}} \\sqrt{R_{41} + R_{42}}}$"
      ],
      "text/plain": [
       "<IPython.core.display.Math object>"
      ]
     },
     "metadata": {},
     "output_type": "display_data"
    },
    {
     "data": {
      "text/latex": [
       "$\\displaystyle \\frac{dwo}{dR_{1}} = - \\frac{\\sqrt{R_{41} + R_{42}}}{2 \\sqrt{C_{3}} R_{1}^{\\frac{3}{2}} \\sqrt{R_{41}} \\sqrt{R_{42}} \\sqrt{C_{21} + C_{22}}}$"
      ],
      "text/plain": [
       "<IPython.core.display.Math object>"
      ]
     },
     "metadata": {},
     "output_type": "display_data"
    },
    {
     "data": {
      "text/latex": [
       "$\\displaystyle \\frac{dwo}{dC_{21}} = - \\frac{\\sqrt{R_{41} + R_{42}}}{2 \\sqrt{C_{3}} \\sqrt{R_{1}} \\sqrt{R_{41}} \\sqrt{R_{42}} \\left(C_{21} + C_{22}\\right)^{\\frac{3}{2}}}$"
      ],
      "text/plain": [
       "<IPython.core.display.Math object>"
      ]
     },
     "metadata": {},
     "output_type": "display_data"
    },
    {
     "data": {
      "text/latex": [
       "$\\displaystyle \\frac{dwo}{dC_{22}} = - \\frac{\\sqrt{R_{41} + R_{42}}}{2 \\sqrt{C_{3}} \\sqrt{R_{1}} \\sqrt{R_{41}} \\sqrt{R_{42}} \\left(C_{21} + C_{22}\\right)^{\\frac{3}{2}}}$"
      ],
      "text/plain": [
       "<IPython.core.display.Math object>"
      ]
     },
     "metadata": {},
     "output_type": "display_data"
    },
    {
     "data": {
      "text/latex": [
       "$\\displaystyle \\frac{dwo}{dC_{3}} = - \\frac{\\sqrt{R_{41} + R_{42}}}{2 C_{3}^{\\frac{3}{2}} \\sqrt{R_{1}} \\sqrt{R_{41}} \\sqrt{R_{42}} \\sqrt{C_{21} + C_{22}}}$"
      ],
      "text/plain": [
       "<IPython.core.display.Math object>"
      ]
     },
     "metadata": {},
     "output_type": "display_data"
    }
   ],
   "source": [
    "# Diccionario de derivadas\n",
    "derivadasWo = {\n",
    "    r\"\\frac{dwo}{dR_{a1}}\":     wo_res.diff(Ra1),\n",
    "    r\"\\frac{dwo}{dR_{a2}}\":     wo_res.diff(Ra2),\n",
    "    r\"\\frac{dwo}{dR_{b}}\":      wo_res.diff(Rb),\n",
    "    r\"\\frac{dwo}{dR_{41}}\":     wo_res.diff(R41),\n",
    "    r\"\\frac{dwo}{dR_{42}}\":     wo_res.diff(R42),\n",
    "    r\"\\frac{dwo}{dR_{1}}\":      wo_res.diff(R1),\n",
    "    r\"\\frac{dwo}{dC_{21}}\":     wo_res.diff(C21),\n",
    "    r\"\\frac{dwo}{dC_{22}}\":     wo_res.diff(C22),\n",
    "    r\"\\frac{dwo}{dC_{3}}\":      wo_res.diff(C3),\n",
    "}\n",
    "\n",
    "# Mostrar cada derivada en formato renderizado LaTeX\n",
    "for nombre, expr in derivadasWo.items():\n",
    "    display(Math(f\"{nombre} = {latex(expr.simplify())}\"))"
   ]
  },
  {
   "cell_type": "code",
   "execution_count": 17,
   "id": "fcf1292b",
   "metadata": {},
   "outputs": [
    {
     "data": {
      "text/latex": [
       "$\\displaystyle \\frac{dQ}{dR_{a1}} = \\frac{R_{b} \\sqrt{R_{41} + R_{42}}}{\\sqrt{C_{3}} R_{1}^{\\frac{3}{2}} \\sqrt{R_{41}} \\sqrt{R_{42}} R_{a1}^{2} \\left(C_{21} + C_{22}\\right)^{\\frac{3}{2}}}$"
      ],
      "text/plain": [
       "<IPython.core.display.Math object>"
      ]
     },
     "metadata": {},
     "output_type": "display_data"
    },
    {
     "data": {
      "text/latex": [
       "$\\displaystyle \\frac{dQ}{dR_{a2}} = \\frac{R_{b} \\sqrt{R_{41} + R_{42}}}{\\sqrt{C_{3}} R_{1}^{\\frac{3}{2}} \\sqrt{R_{41}} \\sqrt{R_{42}} R_{a2}^{2} \\left(C_{21} + C_{22}\\right)^{\\frac{3}{2}}}$"
      ],
      "text/plain": [
       "<IPython.core.display.Math object>"
      ]
     },
     "metadata": {},
     "output_type": "display_data"
    },
    {
     "data": {
      "text/latex": [
       "$\\displaystyle \\frac{dQ}{dR_{b}} = \\frac{\\sqrt{R_{41} + R_{42}} \\left(- R_{a1} - R_{a2}\\right)}{\\sqrt{C_{3}} R_{1}^{\\frac{3}{2}} \\sqrt{R_{41}} \\sqrt{R_{42}} R_{a1} R_{a2} \\left(C_{21} + C_{22}\\right)^{\\frac{3}{2}}}$"
      ],
      "text/plain": [
       "<IPython.core.display.Math object>"
      ]
     },
     "metadata": {},
     "output_type": "display_data"
    },
    {
     "data": {
      "text/latex": [
       "$\\displaystyle \\frac{dQ}{dR_{41}} = \\frac{- 3 C_{3} R_{1} R_{41} R_{a1} R_{a2} - 3 C_{3} R_{1} R_{42} R_{a1} R_{a2} + C_{3} R_{b} R_{41} R_{42} R_{a1} + C_{3} R_{b} R_{41} R_{42} R_{a2} - 3 C_{21} R_{1} R_{41} R_{a1} R_{a2} - 3 C_{21} R_{1} R_{42} R_{a1} R_{a2} - 3 C_{22} R_{1} R_{41} R_{a1} R_{a2} - 3 C_{22} R_{1} R_{42} R_{a1} R_{a2}}{2 C_{3}^{\\frac{3}{2}} R_{1}^{\\frac{3}{2}} R_{41}^{\\frac{5}{2}} \\sqrt{R_{42}} R_{a1} R_{a2} \\left(C_{21} + C_{22}\\right)^{\\frac{3}{2}} \\sqrt{R_{41} + R_{42}}}$"
      ],
      "text/plain": [
       "<IPython.core.display.Math object>"
      ]
     },
     "metadata": {},
     "output_type": "display_data"
    },
    {
     "data": {
      "text/latex": [
       "$\\displaystyle \\frac{dQ}{dR_{42}} = \\frac{- 3 C_{3} R_{1} R_{41} R_{a1} R_{a2} - 3 C_{3} R_{1} R_{42} R_{a1} R_{a2} + C_{3} R_{b} R_{41} R_{42} R_{a1} + C_{3} R_{b} R_{41} R_{42} R_{a2} - 3 C_{21} R_{1} R_{41} R_{a1} R_{a2} - 3 C_{21} R_{1} R_{42} R_{a1} R_{a2} - 3 C_{22} R_{1} R_{41} R_{a1} R_{a2} - 3 C_{22} R_{1} R_{42} R_{a1} R_{a2}}{2 C_{3}^{\\frac{3}{2}} R_{1}^{\\frac{3}{2}} \\sqrt{R_{41}} R_{42}^{\\frac{5}{2}} R_{a1} R_{a2} \\left(C_{21} + C_{22}\\right)^{\\frac{3}{2}} \\sqrt{R_{41} + R_{42}}}$"
      ],
      "text/plain": [
       "<IPython.core.display.Math object>"
      ]
     },
     "metadata": {},
     "output_type": "display_data"
    },
    {
     "data": {
      "text/latex": [
       "$\\displaystyle \\frac{dQ}{dR_{1}} = \\frac{\\sqrt{R_{41} + R_{42}} \\left(3 C_{3} R_{b} R_{41} R_{42} \\left(R_{a1} + R_{a2}\\right) - R_{1} R_{a1} R_{a2} \\left(R_{41} + R_{42}\\right) \\left(C_{3} + C_{21} + C_{22}\\right)\\right)}{2 C_{3}^{\\frac{3}{2}} R_{1}^{\\frac{5}{2}} R_{41}^{\\frac{3}{2}} R_{42}^{\\frac{3}{2}} R_{a1} R_{a2} \\left(C_{21} + C_{22}\\right)^{\\frac{3}{2}}}$"
      ],
      "text/plain": [
       "<IPython.core.display.Math object>"
      ]
     },
     "metadata": {},
     "output_type": "display_data"
    },
    {
     "data": {
      "text/latex": [
       "$\\displaystyle \\frac{dQ}{dC_{21}} = \\frac{\\sqrt{R_{41} + R_{42}} \\left(3 C_{3} R_{b} R_{41} R_{42} \\left(R_{a1} + R_{a2}\\right) + 2 R_{1} R_{a1} R_{a2} \\left(C_{21} + C_{22}\\right) \\left(R_{41} + R_{42}\\right) - 3 R_{1} R_{a1} R_{a2} \\left(R_{41} + R_{42}\\right) \\left(C_{3} + C_{21} + C_{22}\\right)\\right)}{2 C_{3}^{\\frac{3}{2}} R_{1}^{\\frac{3}{2}} R_{41}^{\\frac{3}{2}} R_{42}^{\\frac{3}{2}} R_{a1} R_{a2} \\left(C_{21} + C_{22}\\right)^{\\frac{5}{2}}}$"
      ],
      "text/plain": [
       "<IPython.core.display.Math object>"
      ]
     },
     "metadata": {},
     "output_type": "display_data"
    },
    {
     "data": {
      "text/latex": [
       "$\\displaystyle \\frac{dQ}{dC_{22}} = \\frac{\\sqrt{R_{41} + R_{42}} \\left(3 C_{3} R_{b} R_{41} R_{42} \\left(R_{a1} + R_{a2}\\right) + 2 R_{1} R_{a1} R_{a2} \\left(C_{21} + C_{22}\\right) \\left(R_{41} + R_{42}\\right) - 3 R_{1} R_{a1} R_{a2} \\left(R_{41} + R_{42}\\right) \\left(C_{3} + C_{21} + C_{22}\\right)\\right)}{2 C_{3}^{\\frac{3}{2}} R_{1}^{\\frac{3}{2}} R_{41}^{\\frac{3}{2}} R_{42}^{\\frac{3}{2}} R_{a1} R_{a2} \\left(C_{21} + C_{22}\\right)^{\\frac{5}{2}}}$"
      ],
      "text/plain": [
       "<IPython.core.display.Math object>"
      ]
     },
     "metadata": {},
     "output_type": "display_data"
    },
    {
     "data": {
      "text/latex": [
       "$\\displaystyle \\frac{dQ}{dC_{3}} = \\frac{\\sqrt{R_{41} + R_{42}} \\left(3 C_{3} R_{b} R_{41} R_{42} \\left(R_{a1} + R_{a2}\\right) + 2 C_{3} \\left(R_{1} R_{a1} R_{a2} \\left(R_{41} + R_{42}\\right) - R_{b} R_{41} R_{42} \\left(R_{a1} + R_{a2}\\right)\\right) - 3 R_{1} R_{a1} R_{a2} \\left(R_{41} + R_{42}\\right) \\left(C_{3} + C_{21} + C_{22}\\right)\\right)}{2 C_{3}^{\\frac{5}{2}} R_{1}^{\\frac{3}{2}} R_{41}^{\\frac{3}{2}} R_{42}^{\\frac{3}{2}} R_{a1} R_{a2} \\left(C_{21} + C_{22}\\right)^{\\frac{3}{2}}}$"
      ],
      "text/plain": [
       "<IPython.core.display.Math object>"
      ]
     },
     "metadata": {},
     "output_type": "display_data"
    }
   ],
   "source": [
    "# Diccionario de derivadas\n",
    "derivadasQ = {\n",
    "    r\"\\frac{dQ}{dR_{a1}}\": Q_res.diff(Ra1),\n",
    "    r\"\\frac{dQ}{dR_{a2}}\": Q_res.diff(Ra2),\n",
    "    r\"\\frac{dQ}{dR_{b}}\": Q_res.diff(Rb),\n",
    "    r\"\\frac{dQ}{dR_{41}}\": Q_res.diff(R41),\n",
    "    r\"\\frac{dQ}{dR_{42}}\": Q_res.diff(R42),\n",
    "    r\"\\frac{dQ}{dR_{1}}\": Q_res.diff(R1),\n",
    "    r\"\\frac{dQ}{dC_{21}}\": Q_res.diff(C21),\n",
    "    r\"\\frac{dQ}{dC_{22}}\": Q_res.diff(C22),\n",
    "    r\"\\frac{dQ}{dC_{3}}\": Q_res.diff(C3),\n",
    "}\n",
    "\n",
    "# Mostrar cada derivada en formato renderizado LaTeX\n",
    "for nombre, expr in derivadasQ.items():\n",
    "    display(Math(f\"{nombre} = {latex(expr.simplify())}\"))"
   ]
  },
  {
   "cell_type": "markdown",
   "id": "875d938f",
   "metadata": {},
   "source": [
    "Calculo de Sensibilidades"
   ]
  },
  {
   "cell_type": "code",
   "execution_count": 18,
   "id": "c702619e",
   "metadata": {},
   "outputs": [
    {
     "data": {
      "text/latex": [
       "$\\displaystyle S^{w_o}_{R_{a1}} = 0$"
      ],
      "text/plain": [
       "<IPython.core.display.Math object>"
      ]
     },
     "metadata": {},
     "output_type": "display_data"
    },
    {
     "data": {
      "text/latex": [
       "$\\displaystyle S^{w_o}_{R_{a2}} = 0$"
      ],
      "text/plain": [
       "<IPython.core.display.Math object>"
      ]
     },
     "metadata": {},
     "output_type": "display_data"
    },
    {
     "data": {
      "text/latex": [
       "$\\displaystyle S^{w_o}_{R_{b}} = 0$"
      ],
      "text/plain": [
       "<IPython.core.display.Math object>"
      ]
     },
     "metadata": {},
     "output_type": "display_data"
    },
    {
     "data": {
      "text/latex": [
       "$\\displaystyle S^{w_o}_{R_{41}} = \\frac{\\sqrt{C_{3}} \\sqrt{R_{1}} R_{41}^{\\frac{3}{2}} \\sqrt{R_{42}} \\sqrt{C_{21} + C_{22}} \\left(\\frac{1}{2 \\sqrt{C_{3}} \\sqrt{R_{1}} \\sqrt{R_{41}} \\sqrt{R_{42}} \\sqrt{C_{21} + C_{22}} \\sqrt{R_{41} + R_{42}}} - \\frac{\\sqrt{R_{41} + R_{42}}}{2 \\sqrt{C_{3}} \\sqrt{R_{1}} R_{41}^{\\frac{3}{2}} \\sqrt{R_{42}} \\sqrt{C_{21} + C_{22}}}\\right)}{\\sqrt{R_{41} + R_{42}}}$"
      ],
      "text/plain": [
       "<IPython.core.display.Math object>"
      ]
     },
     "metadata": {},
     "output_type": "display_data"
    },
    {
     "data": {
      "text/latex": [
       "$\\displaystyle S^{w_o}_{R_{42}} = \\frac{\\sqrt{C_{3}} \\sqrt{R_{1}} \\sqrt{R_{41}} R_{42}^{\\frac{3}{2}} \\sqrt{C_{21} + C_{22}} \\left(\\frac{1}{2 \\sqrt{C_{3}} \\sqrt{R_{1}} \\sqrt{R_{41}} \\sqrt{R_{42}} \\sqrt{C_{21} + C_{22}} \\sqrt{R_{41} + R_{42}}} - \\frac{\\sqrt{R_{41} + R_{42}}}{2 \\sqrt{C_{3}} \\sqrt{R_{1}} \\sqrt{R_{41}} R_{42}^{\\frac{3}{2}} \\sqrt{C_{21} + C_{22}}}\\right)}{\\sqrt{R_{41} + R_{42}}}$"
      ],
      "text/plain": [
       "<IPython.core.display.Math object>"
      ]
     },
     "metadata": {},
     "output_type": "display_data"
    },
    {
     "data": {
      "text/latex": [
       "$\\displaystyle S^{w_o}_{R_{1}} = - \\frac{1}{2}$"
      ],
      "text/plain": [
       "<IPython.core.display.Math object>"
      ]
     },
     "metadata": {},
     "output_type": "display_data"
    },
    {
     "data": {
      "text/latex": [
       "$\\displaystyle S^{w_o}_{C_{21}} = - \\frac{C_{21}}{2 \\left(C_{21} + C_{22}\\right)}$"
      ],
      "text/plain": [
       "<IPython.core.display.Math object>"
      ]
     },
     "metadata": {},
     "output_type": "display_data"
    },
    {
     "data": {
      "text/latex": [
       "$\\displaystyle S^{w_o}_{C_{22}} = - \\frac{C_{22}}{2 \\left(C_{21} + C_{22}\\right)}$"
      ],
      "text/plain": [
       "<IPython.core.display.Math object>"
      ]
     },
     "metadata": {},
     "output_type": "display_data"
    },
    {
     "data": {
      "text/latex": [
       "$\\displaystyle S^{w_o}_{C_{3}} = - \\frac{1}{2}$"
      ],
      "text/plain": [
       "<IPython.core.display.Math object>"
      ]
     },
     "metadata": {},
     "output_type": "display_data"
    }
   ],
   "source": [
    "Swo_Ra1  = ss.symbols(r'S^{w_o}_{R_{a1}}')\n",
    "Swo_Ra2  = ss.symbols(r'S^{w_o}_{R_{a2}}')\n",
    "Swo_Rb   = ss.symbols(r'S^{w_o}_{R_{b}}')\n",
    "Swo_R41  = ss.symbols(r'S^{w_o}_{R_{41}}')\n",
    "Swo_R42  = ss.symbols(r'S^{w_o}_{R_{42}}')\n",
    "Swo_R1   = ss.symbols(r'S^{w_o}_{R_{1}}')\n",
    "Swo_C21  = ss.symbols(r'S^{w_o}_{C_{21}}')\n",
    "Swo_C22  = ss.symbols(r'S^{w_o}_{C_{22}}')\n",
    "Swo_C3   = ss.symbols(r'S^{w_o}_{C_{3}}')\n",
    "\n",
    "Swo_Ra1 = (wo_res.diff(Ra1))*(Ra1/wo_res).simplify()\n",
    "Swo_Ra2 = (wo_res.diff(Ra2))*(Ra2/wo_res).simplify()\n",
    "Swo_Rb  = (wo_res.diff(Rb) )*(Rb/wo_res).simplify()\n",
    "Swo_R41 = (wo_res.diff(R41))*(R41/wo_res).simplify()\n",
    "Swo_R42 = (wo_res.diff(R42))*(R42/wo_res).simplify()\n",
    "Swo_R1  = (wo_res.diff(R1) )*(R1/wo_res).simplify()\n",
    "Swo_C21 = (wo_res.diff(C21))*(C21/wo_res).simplify()\n",
    "Swo_C22 = (wo_res.diff(C22))*(C22/wo_res).simplify()\n",
    "Swo_C3  = (wo_res.diff(C3) )*(C3/wo_res).simplify()\n",
    "\n",
    "display(Math(r\"S^{w_o}_{R_{a1}} = \" + latex(Swo_Ra1)))\n",
    "display(Math(r\"S^{w_o}_{R_{a2}} = \" + latex(Swo_Ra2)))\n",
    "display(Math(r\"S^{w_o}_{R_{b}} = \"  + latex(Swo_Rb)))\n",
    "display(Math(r\"S^{w_o}_{R_{41}} = \" + latex(Swo_R41)))\n",
    "display(Math(r\"S^{w_o}_{R_{42}} = \" + latex(Swo_R42)))\n",
    "display(Math(r\"S^{w_o}_{R_{1}} = \"  + latex(Swo_R1)))\n",
    "display(Math(r\"S^{w_o}_{C_{21}} = \" + latex(Swo_C21)))\n",
    "display(Math(r\"S^{w_o}_{C_{22}} = \" + latex(Swo_C22)))\n",
    "display(Math(r\"S^{w_o}_{C_{3}} = \"  + latex(Swo_C3)))"
   ]
  },
  {
   "cell_type": "code",
   "execution_count": 19,
   "id": "b5c555a8",
   "metadata": {},
   "outputs": [
    {
     "data": {
      "text/latex": [
       "$\\displaystyle S^{Q}_{R_{a1}} = - \\frac{C_{3}^{\\frac{3}{2}} R_{1}^{\\frac{3}{2}} R_{41}^{\\frac{3}{2}} R_{42}^{\\frac{3}{2}} R_{a1}^{2} R_{a2} \\left(C_{21} + C_{22}\\right)^{\\frac{3}{2}} \\left(\\frac{\\sqrt{R_{41} + R_{42}} \\left(- C_{3} R_{b} R_{41} R_{42} + R_{1} R_{a2} \\left(R_{41} + R_{42}\\right) \\left(C_{3} + C_{21} + C_{22}\\right)\\right)}{C_{3}^{\\frac{3}{2}} R_{1}^{\\frac{3}{2}} R_{41}^{\\frac{3}{2}} R_{42}^{\\frac{3}{2}} R_{a1} R_{a2} \\left(C_{21} + C_{22}\\right)^{\\frac{3}{2}}} - \\frac{\\sqrt{R_{41} + R_{42}} \\left(- C_{3} R_{b} R_{41} R_{42} \\left(R_{a1} + R_{a2}\\right) + R_{1} R_{a1} R_{a2} \\left(R_{41} + R_{42}\\right) \\left(C_{3} + C_{21} + C_{22}\\right)\\right)}{C_{3}^{\\frac{3}{2}} R_{1}^{\\frac{3}{2}} R_{41}^{\\frac{3}{2}} R_{42}^{\\frac{3}{2}} R_{a1}^{2} R_{a2} \\left(C_{21} + C_{22}\\right)^{\\frac{3}{2}}}\\right)}{\\sqrt{R_{41} + R_{42}} \\left(C_{3} R_{b} R_{41} R_{42} \\left(R_{a1} + R_{a2}\\right) - R_{1} R_{a1} R_{a2} \\left(R_{41} + R_{42}\\right) \\left(C_{3} + C_{21} + C_{22}\\right)\\right)}$"
      ],
      "text/plain": [
       "<IPython.core.display.Math object>"
      ]
     },
     "metadata": {},
     "output_type": "display_data"
    },
    {
     "data": {
      "text/latex": [
       "$\\displaystyle S^{Q}_{R_{a2}} = - \\frac{C_{3}^{\\frac{3}{2}} R_{1}^{\\frac{3}{2}} R_{41}^{\\frac{3}{2}} R_{42}^{\\frac{3}{2}} R_{a1} R_{a2}^{2} \\left(C_{21} + C_{22}\\right)^{\\frac{3}{2}} \\left(\\frac{\\sqrt{R_{41} + R_{42}} \\left(- C_{3} R_{b} R_{41} R_{42} + R_{1} R_{a1} \\left(R_{41} + R_{42}\\right) \\left(C_{3} + C_{21} + C_{22}\\right)\\right)}{C_{3}^{\\frac{3}{2}} R_{1}^{\\frac{3}{2}} R_{41}^{\\frac{3}{2}} R_{42}^{\\frac{3}{2}} R_{a1} R_{a2} \\left(C_{21} + C_{22}\\right)^{\\frac{3}{2}}} - \\frac{\\sqrt{R_{41} + R_{42}} \\left(- C_{3} R_{b} R_{41} R_{42} \\left(R_{a1} + R_{a2}\\right) + R_{1} R_{a1} R_{a2} \\left(R_{41} + R_{42}\\right) \\left(C_{3} + C_{21} + C_{22}\\right)\\right)}{C_{3}^{\\frac{3}{2}} R_{1}^{\\frac{3}{2}} R_{41}^{\\frac{3}{2}} R_{42}^{\\frac{3}{2}} R_{a1} R_{a2}^{2} \\left(C_{21} + C_{22}\\right)^{\\frac{3}{2}}}\\right)}{\\sqrt{R_{41} + R_{42}} \\left(C_{3} R_{b} R_{41} R_{42} \\left(R_{a1} + R_{a2}\\right) - R_{1} R_{a1} R_{a2} \\left(R_{41} + R_{42}\\right) \\left(C_{3} + C_{21} + C_{22}\\right)\\right)}$"
      ],
      "text/plain": [
       "<IPython.core.display.Math object>"
      ]
     },
     "metadata": {},
     "output_type": "display_data"
    },
    {
     "data": {
      "text/latex": [
       "$\\displaystyle S^{Q}_{R_{b}} = \\frac{C_{3} R_{b} R_{41} R_{42} \\left(R_{a1} + R_{a2}\\right)}{C_{3} R_{b} R_{41} R_{42} \\left(R_{a1} + R_{a2}\\right) - R_{1} R_{a1} R_{a2} \\left(R_{41} + R_{42}\\right) \\left(C_{3} + C_{21} + C_{22}\\right)}$"
      ],
      "text/plain": [
       "<IPython.core.display.Math object>"
      ]
     },
     "metadata": {},
     "output_type": "display_data"
    },
    {
     "data": {
      "text/latex": [
       "$\\displaystyle S^{Q}_{R_{41}} = - \\frac{C_{3}^{\\frac{3}{2}} R_{1}^{\\frac{3}{2}} R_{41}^{\\frac{5}{2}} R_{42}^{\\frac{3}{2}} R_{a1} R_{a2} \\left(C_{21} + C_{22}\\right)^{\\frac{3}{2}} \\left(\\frac{\\sqrt{R_{41} + R_{42}} \\left(- C_{3} R_{b} R_{42} \\left(R_{a1} + R_{a2}\\right) + R_{1} R_{a1} R_{a2} \\left(C_{3} + C_{21} + C_{22}\\right)\\right)}{C_{3}^{\\frac{3}{2}} R_{1}^{\\frac{3}{2}} R_{41}^{\\frac{3}{2}} R_{42}^{\\frac{3}{2}} R_{a1} R_{a2} \\left(C_{21} + C_{22}\\right)^{\\frac{3}{2}}} + \\frac{- C_{3} R_{b} R_{41} R_{42} \\left(R_{a1} + R_{a2}\\right) + R_{1} R_{a1} R_{a2} \\left(R_{41} + R_{42}\\right) \\left(C_{3} + C_{21} + C_{22}\\right)}{2 C_{3}^{\\frac{3}{2}} R_{1}^{\\frac{3}{2}} R_{41}^{\\frac{3}{2}} R_{42}^{\\frac{3}{2}} R_{a1} R_{a2} \\left(C_{21} + C_{22}\\right)^{\\frac{3}{2}} \\sqrt{R_{41} + R_{42}}} - \\frac{3 \\sqrt{R_{41} + R_{42}} \\left(- C_{3} R_{b} R_{41} R_{42} \\left(R_{a1} + R_{a2}\\right) + R_{1} R_{a1} R_{a2} \\left(R_{41} + R_{42}\\right) \\left(C_{3} + C_{21} + C_{22}\\right)\\right)}{2 C_{3}^{\\frac{3}{2}} R_{1}^{\\frac{3}{2}} R_{41}^{\\frac{5}{2}} R_{42}^{\\frac{3}{2}} R_{a1} R_{a2} \\left(C_{21} + C_{22}\\right)^{\\frac{3}{2}}}\\right)}{\\sqrt{R_{41} + R_{42}} \\left(C_{3} R_{b} R_{41} R_{42} \\left(R_{a1} + R_{a2}\\right) - R_{1} R_{a1} R_{a2} \\left(R_{41} + R_{42}\\right) \\left(C_{3} + C_{21} + C_{22}\\right)\\right)}$"
      ],
      "text/plain": [
       "<IPython.core.display.Math object>"
      ]
     },
     "metadata": {},
     "output_type": "display_data"
    },
    {
     "data": {
      "text/latex": [
       "$\\displaystyle S^{Q}_{R_{42}} = - \\frac{C_{3}^{\\frac{3}{2}} R_{1}^{\\frac{3}{2}} R_{41}^{\\frac{3}{2}} R_{42}^{\\frac{5}{2}} R_{a1} R_{a2} \\left(C_{21} + C_{22}\\right)^{\\frac{3}{2}} \\left(\\frac{\\sqrt{R_{41} + R_{42}} \\left(- C_{3} R_{b} R_{41} \\left(R_{a1} + R_{a2}\\right) + R_{1} R_{a1} R_{a2} \\left(C_{3} + C_{21} + C_{22}\\right)\\right)}{C_{3}^{\\frac{3}{2}} R_{1}^{\\frac{3}{2}} R_{41}^{\\frac{3}{2}} R_{42}^{\\frac{3}{2}} R_{a1} R_{a2} \\left(C_{21} + C_{22}\\right)^{\\frac{3}{2}}} + \\frac{- C_{3} R_{b} R_{41} R_{42} \\left(R_{a1} + R_{a2}\\right) + R_{1} R_{a1} R_{a2} \\left(R_{41} + R_{42}\\right) \\left(C_{3} + C_{21} + C_{22}\\right)}{2 C_{3}^{\\frac{3}{2}} R_{1}^{\\frac{3}{2}} R_{41}^{\\frac{3}{2}} R_{42}^{\\frac{3}{2}} R_{a1} R_{a2} \\left(C_{21} + C_{22}\\right)^{\\frac{3}{2}} \\sqrt{R_{41} + R_{42}}} - \\frac{3 \\sqrt{R_{41} + R_{42}} \\left(- C_{3} R_{b} R_{41} R_{42} \\left(R_{a1} + R_{a2}\\right) + R_{1} R_{a1} R_{a2} \\left(R_{41} + R_{42}\\right) \\left(C_{3} + C_{21} + C_{22}\\right)\\right)}{2 C_{3}^{\\frac{3}{2}} R_{1}^{\\frac{3}{2}} R_{41}^{\\frac{3}{2}} R_{42}^{\\frac{5}{2}} R_{a1} R_{a2} \\left(C_{21} + C_{22}\\right)^{\\frac{3}{2}}}\\right)}{\\sqrt{R_{41} + R_{42}} \\left(C_{3} R_{b} R_{41} R_{42} \\left(R_{a1} + R_{a2}\\right) - R_{1} R_{a1} R_{a2} \\left(R_{41} + R_{42}\\right) \\left(C_{3} + C_{21} + C_{22}\\right)\\right)}$"
      ],
      "text/plain": [
       "<IPython.core.display.Math object>"
      ]
     },
     "metadata": {},
     "output_type": "display_data"
    },
    {
     "data": {
      "text/latex": [
       "$\\displaystyle S^{Q}_{R_{1}} = - \\frac{C_{3}^{\\frac{3}{2}} R_{1}^{\\frac{5}{2}} R_{41}^{\\frac{3}{2}} R_{42}^{\\frac{3}{2}} R_{a1} R_{a2} \\left(C_{21} + C_{22}\\right)^{\\frac{3}{2}} \\left(\\frac{\\left(R_{41} + R_{42}\\right)^{\\frac{3}{2}} \\left(C_{3} + C_{21} + C_{22}\\right)}{C_{3}^{\\frac{3}{2}} R_{1}^{\\frac{3}{2}} R_{41}^{\\frac{3}{2}} R_{42}^{\\frac{3}{2}} \\left(C_{21} + C_{22}\\right)^{\\frac{3}{2}}} - \\frac{3 \\sqrt{R_{41} + R_{42}} \\left(- C_{3} R_{b} R_{41} R_{42} \\left(R_{a1} + R_{a2}\\right) + R_{1} R_{a1} R_{a2} \\left(R_{41} + R_{42}\\right) \\left(C_{3} + C_{21} + C_{22}\\right)\\right)}{2 C_{3}^{\\frac{3}{2}} R_{1}^{\\frac{5}{2}} R_{41}^{\\frac{3}{2}} R_{42}^{\\frac{3}{2}} R_{a1} R_{a2} \\left(C_{21} + C_{22}\\right)^{\\frac{3}{2}}}\\right)}{\\sqrt{R_{41} + R_{42}} \\left(C_{3} R_{b} R_{41} R_{42} \\left(R_{a1} + R_{a2}\\right) - R_{1} R_{a1} R_{a2} \\left(R_{41} + R_{42}\\right) \\left(C_{3} + C_{21} + C_{22}\\right)\\right)}$"
      ],
      "text/plain": [
       "<IPython.core.display.Math object>"
      ]
     },
     "metadata": {},
     "output_type": "display_data"
    },
    {
     "data": {
      "text/latex": [
       "$\\displaystyle S^{Q}_{C_{21}} = - \\frac{C_{3}^{\\frac{3}{2}} C_{21} R_{1}^{\\frac{3}{2}} R_{41}^{\\frac{3}{2}} R_{42}^{\\frac{3}{2}} R_{a1} R_{a2} \\left(C_{21} + C_{22}\\right)^{\\frac{3}{2}} \\left(\\frac{\\left(R_{41} + R_{42}\\right)^{\\frac{3}{2}}}{C_{3}^{\\frac{3}{2}} \\sqrt{R_{1}} R_{41}^{\\frac{3}{2}} R_{42}^{\\frac{3}{2}} \\left(C_{21} + C_{22}\\right)^{\\frac{3}{2}}} - \\frac{3 \\sqrt{R_{41} + R_{42}} \\left(- C_{3} R_{b} R_{41} R_{42} \\left(R_{a1} + R_{a2}\\right) + R_{1} R_{a1} R_{a2} \\left(R_{41} + R_{42}\\right) \\left(C_{3} + C_{21} + C_{22}\\right)\\right)}{2 C_{3}^{\\frac{3}{2}} R_{1}^{\\frac{3}{2}} R_{41}^{\\frac{3}{2}} R_{42}^{\\frac{3}{2}} R_{a1} R_{a2} \\left(C_{21} + C_{22}\\right)^{\\frac{5}{2}}}\\right)}{\\sqrt{R_{41} + R_{42}} \\left(C_{3} R_{b} R_{41} R_{42} \\left(R_{a1} + R_{a2}\\right) - R_{1} R_{a1} R_{a2} \\left(R_{41} + R_{42}\\right) \\left(C_{3} + C_{21} + C_{22}\\right)\\right)}$"
      ],
      "text/plain": [
       "<IPython.core.display.Math object>"
      ]
     },
     "metadata": {},
     "output_type": "display_data"
    },
    {
     "data": {
      "text/latex": [
       "$\\displaystyle S^{Q}_{C_{22}} = - \\frac{C_{3}^{\\frac{3}{2}} C_{22} R_{1}^{\\frac{3}{2}} R_{41}^{\\frac{3}{2}} R_{42}^{\\frac{3}{2}} R_{a1} R_{a2} \\left(C_{21} + C_{22}\\right)^{\\frac{3}{2}} \\left(\\frac{\\left(R_{41} + R_{42}\\right)^{\\frac{3}{2}}}{C_{3}^{\\frac{3}{2}} \\sqrt{R_{1}} R_{41}^{\\frac{3}{2}} R_{42}^{\\frac{3}{2}} \\left(C_{21} + C_{22}\\right)^{\\frac{3}{2}}} - \\frac{3 \\sqrt{R_{41} + R_{42}} \\left(- C_{3} R_{b} R_{41} R_{42} \\left(R_{a1} + R_{a2}\\right) + R_{1} R_{a1} R_{a2} \\left(R_{41} + R_{42}\\right) \\left(C_{3} + C_{21} + C_{22}\\right)\\right)}{2 C_{3}^{\\frac{3}{2}} R_{1}^{\\frac{3}{2}} R_{41}^{\\frac{3}{2}} R_{42}^{\\frac{3}{2}} R_{a1} R_{a2} \\left(C_{21} + C_{22}\\right)^{\\frac{5}{2}}}\\right)}{\\sqrt{R_{41} + R_{42}} \\left(C_{3} R_{b} R_{41} R_{42} \\left(R_{a1} + R_{a2}\\right) - R_{1} R_{a1} R_{a2} \\left(R_{41} + R_{42}\\right) \\left(C_{3} + C_{21} + C_{22}\\right)\\right)}$"
      ],
      "text/plain": [
       "<IPython.core.display.Math object>"
      ]
     },
     "metadata": {},
     "output_type": "display_data"
    },
    {
     "data": {
      "text/latex": [
       "$\\displaystyle S^{Q}_{C_{3}} = - \\frac{C_{3}^{\\frac{5}{2}} R_{1}^{\\frac{3}{2}} R_{41}^{\\frac{3}{2}} R_{42}^{\\frac{3}{2}} R_{a1} R_{a2} \\left(C_{21} + C_{22}\\right)^{\\frac{3}{2}} \\left(\\frac{\\sqrt{R_{41} + R_{42}} \\left(R_{1} R_{a1} R_{a2} \\left(R_{41} + R_{42}\\right) - R_{b} R_{41} R_{42} \\left(R_{a1} + R_{a2}\\right)\\right)}{C_{3}^{\\frac{3}{2}} R_{1}^{\\frac{3}{2}} R_{41}^{\\frac{3}{2}} R_{42}^{\\frac{3}{2}} R_{a1} R_{a2} \\left(C_{21} + C_{22}\\right)^{\\frac{3}{2}}} - \\frac{3 \\sqrt{R_{41} + R_{42}} \\left(- C_{3} R_{b} R_{41} R_{42} \\left(R_{a1} + R_{a2}\\right) + R_{1} R_{a1} R_{a2} \\left(R_{41} + R_{42}\\right) \\left(C_{3} + C_{21} + C_{22}\\right)\\right)}{2 C_{3}^{\\frac{5}{2}} R_{1}^{\\frac{3}{2}} R_{41}^{\\frac{3}{2}} R_{42}^{\\frac{3}{2}} R_{a1} R_{a2} \\left(C_{21} + C_{22}\\right)^{\\frac{3}{2}}}\\right)}{\\sqrt{R_{41} + R_{42}} \\left(C_{3} R_{b} R_{41} R_{42} \\left(R_{a1} + R_{a2}\\right) - R_{1} R_{a1} R_{a2} \\left(R_{41} + R_{42}\\right) \\left(C_{3} + C_{21} + C_{22}\\right)\\right)}$"
      ],
      "text/plain": [
       "<IPython.core.display.Math object>"
      ]
     },
     "metadata": {},
     "output_type": "display_data"
    }
   ],
   "source": [
    "# Definición simbólica\n",
    "SQ_Ra1  = ss.symbols(r'S^{Q}_{R_{a1}}')\n",
    "SQ_Ra2  = ss.symbols(r'S^{Q}_{R_{a2}}')\n",
    "SQ_Rb   = ss.symbols(r'S^{Q}_{R_{b}}')\n",
    "SQ_R41  = ss.symbols(r'S^{Q}_{R_{41}}')\n",
    "SQ_R42  = ss.symbols(r'S^{Q}_{R_{42}}')\n",
    "SQ_R1   = ss.symbols(r'S^{Q}_{R_{1}}')\n",
    "SQ_C21  = ss.symbols(r'S^{Q}_{C_{21}}')\n",
    "SQ_C22  = ss.symbols(r'S^{Q}_{C_{22}}')\n",
    "SQ_C3   = ss.symbols(r'S^{Q}_{C_{3}}')\n",
    "\n",
    "# Cálculo de sensibilidades\n",
    "SQ_Ra1 = (Q_res.diff(Ra1)) * (Ra1 / Q_res).simplify()\n",
    "SQ_Ra2 = (Q_res.diff(Ra2)) * (Ra2 / Q_res).simplify()\n",
    "SQ_Rb  = (Q_res.diff(Rb) ) * (Rb  / Q_res).simplify()\n",
    "SQ_R41 = (Q_res.diff(R41)) * (R41 / Q_res).simplify()\n",
    "SQ_R42 = (Q_res.diff(R42)) * (R42 / Q_res).simplify()\n",
    "SQ_R1  = (Q_res.diff(R1) ) * (R1  / Q_res).simplify()\n",
    "SQ_C21 = (Q_res.diff(C21)) * (C21 / Q_res).simplify()\n",
    "SQ_C22 = (Q_res.diff(C22)) * (C22 / Q_res).simplify()\n",
    "SQ_C3  = (Q_res.diff(C3) ) * (C3  / Q_res).simplify()\n",
    "\n",
    "# Mostrar resultados\n",
    "display(Math(r\"S^{Q}_{R_{a1}} = \" + latex(SQ_Ra1)))\n",
    "display(Math(r\"S^{Q}_{R_{a2}} = \" + latex(SQ_Ra2)))\n",
    "display(Math(r\"S^{Q}_{R_{b}} = \"  + latex(SQ_Rb)))\n",
    "display(Math(r\"S^{Q}_{R_{41}} = \" + latex(SQ_R41)))\n",
    "display(Math(r\"S^{Q}_{R_{42}} = \" + latex(SQ_R42)))\n",
    "display(Math(r\"S^{Q}_{R_{1}} = \"  + latex(SQ_R1)))\n",
    "display(Math(r\"S^{Q}_{C_{21}} = \" + latex(SQ_C21)))\n",
    "display(Math(r\"S^{Q}_{C_{22}} = \" + latex(SQ_C22)))\n",
    "display(Math(r\"S^{Q}_{C_{3}} = \"  + latex(SQ_C3)))\n"
   ]
  },
  {
   "cell_type": "markdown",
   "id": "5e4207b9",
   "metadata": {},
   "source": [
    "Reemplazno Numerico"
   ]
  },
  {
   "cell_type": "code",
   "execution_count": null,
   "id": "558b95d2",
   "metadata": {},
   "outputs": [
    {
     "data": {
      "text/latex": [
       "$\\displaystyle S^{Q}_{R_{a1}} = -0.00661864850945857$"
      ],
      "text/plain": [
       "<IPython.core.display.Math object>"
      ]
     },
     "metadata": {},
     "output_type": "display_data"
    },
    {
     "data": {
      "text/latex": [
       "$\\displaystyle S^{Q}_{R_{a2}} = -1.03335272071694$"
      ],
      "text/plain": [
       "<IPython.core.display.Math object>"
      ]
     },
     "metadata": {},
     "output_type": "display_data"
    },
    {
     "data": {
      "text/latex": [
       "$\\displaystyle S^{Q}_{R_{a}} = -1.0399713692264$"
      ],
      "text/plain": [
       "<IPython.core.display.Math object>"
      ]
     },
     "metadata": {},
     "output_type": "display_data"
    },
    {
     "data": {
      "text/latex": [
       "$\\displaystyle S^{Q}_{R_{b}} = 1.0399713692264$"
      ],
      "text/plain": [
       "<IPython.core.display.Math object>"
      ]
     },
     "metadata": {},
     "output_type": "display_data"
    },
    {
     "data": {
      "text/latex": [
       "$\\displaystyle S^{Q}_{R_{41}} = -0.447813136344328$"
      ],
      "text/plain": [
       "<IPython.core.display.Math object>"
      ]
     },
     "metadata": {},
     "output_type": "display_data"
    },
    {
     "data": {
      "text/latex": [
       "$\\displaystyle S^{Q}_{R_{42}} = -0.0122154944292743$"
      ],
      "text/plain": [
       "<IPython.core.display.Math object>"
      ]
     },
     "metadata": {},
     "output_type": "display_data"
    },
    {
     "data": {
      "text/latex": [
       "$\\displaystyle S^{Q}_{R_{4}} = -0.460028630773603$"
      ],
      "text/plain": [
       "<IPython.core.display.Math object>"
      ]
     },
     "metadata": {},
     "output_type": "display_data"
    },
    {
     "data": {
      "text/latex": [
       "$\\displaystyle S^{Q}_{R_{1}} = -1.5399713692264$"
      ],
      "text/plain": [
       "<IPython.core.display.Math object>"
      ]
     },
     "metadata": {},
     "output_type": "display_data"
    },
    {
     "data": {
      "text/latex": [
       "$\\displaystyle S^{Q}_{C_{21}} = -1.14284637940842$"
      ],
      "text/plain": [
       "<IPython.core.display.Math object>"
      ]
     },
     "metadata": {},
     "output_type": "display_data"
    },
    {
     "data": {
      "text/latex": [
       "$\\displaystyle S^{Q}_{C_{22}} = -0.377139305204779$"
      ],
      "text/plain": [
       "<IPython.core.display.Math object>"
      ]
     },
     "metadata": {},
     "output_type": "display_data"
    },
    {
     "data": {
      "text/latex": [
       "$\\displaystyle S^{Q}_{C_{2}} = -1.5199856846132$"
      ],
      "text/plain": [
       "<IPython.core.display.Math object>"
      ]
     },
     "metadata": {},
     "output_type": "display_data"
    },
    {
     "data": {
      "text/latex": [
       "$\\displaystyle S^{Q}_{C_{3}} = -0.480014315386801$"
      ],
      "text/plain": [
       "<IPython.core.display.Math object>"
      ]
     },
     "metadata": {},
     "output_type": "display_data"
    },
    {
     "data": {
      "text/latex": [
       "$\\displaystyle S^{\\omega_0}_{R_{a1}} = 0$"
      ],
      "text/plain": [
       "<IPython.core.display.Math object>"
      ]
     },
     "metadata": {},
     "output_type": "display_data"
    },
    {
     "data": {
      "text/latex": [
       "$\\displaystyle S^{\\omega_0}_{R_{a2}} = 0$"
      ],
      "text/plain": [
       "<IPython.core.display.Math object>"
      ]
     },
     "metadata": {},
     "output_type": "display_data"
    },
    {
     "data": {
      "text/latex": [
       "$\\displaystyle S^{\\omega_0}_{R_{a}} = 0$"
      ],
      "text/plain": [
       "<IPython.core.display.Math object>"
      ]
     },
     "metadata": {},
     "output_type": "display_data"
    },
    {
     "data": {
      "text/latex": [
       "$\\displaystyle S^{\\omega_0}_{R_{b}} = 0$"
      ],
      "text/plain": [
       "<IPython.core.display.Math object>"
      ]
     },
     "metadata": {},
     "output_type": "display_data"
    },
    {
     "data": {
      "text/latex": [
       "$\\displaystyle S^{\\omega_0}_{R_{41}} = -0.486723115027936$"
      ],
      "text/plain": [
       "<IPython.core.display.Math object>"
      ]
     },
     "metadata": {},
     "output_type": "display_data"
    },
    {
     "data": {
      "text/latex": [
       "$\\displaystyle S^{\\omega_0}_{R_{42}} = -0.0132768849720638$"
      ],
      "text/plain": [
       "<IPython.core.display.Math object>"
      ]
     },
     "metadata": {},
     "output_type": "display_data"
    },
    {
     "data": {
      "text/latex": [
       "$\\displaystyle S^{\\omega_0}_{R_{4}} = -0.5$"
      ],
      "text/plain": [
       "<IPython.core.display.Math object>"
      ]
     },
     "metadata": {},
     "output_type": "display_data"
    },
    {
     "data": {
      "text/latex": [
       "$\\displaystyle S^{\\omega_0}_{R_{1}} = -0.5$"
      ],
      "text/plain": [
       "<IPython.core.display.Math object>"
      ]
     },
     "metadata": {},
     "output_type": "display_data"
    },
    {
     "data": {
      "text/latex": [
       "$\\displaystyle S^{\\omega_0}_{C_{21}} = -0.37593984962406$"
      ],
      "text/plain": [
       "<IPython.core.display.Math object>"
      ]
     },
     "metadata": {},
     "output_type": "display_data"
    },
    {
     "data": {
      "text/latex": [
       "$\\displaystyle S^{\\omega_0}_{C_{22}} = -0.12406015037594$"
      ],
      "text/plain": [
       "<IPython.core.display.Math object>"
      ]
     },
     "metadata": {},
     "output_type": "display_data"
    },
    {
     "data": {
      "text/latex": [
       "$\\displaystyle S^{\\omega_0}_{C_{2}} = -0.5$"
      ],
      "text/plain": [
       "<IPython.core.display.Math object>"
      ]
     },
     "metadata": {},
     "output_type": "display_data"
    },
    {
     "data": {
      "text/latex": [
       "$\\displaystyle S^{\\omega_0}_{C_{3}} = -0.5$"
      ],
      "text/plain": [
       "<IPython.core.display.Math object>"
      ]
     },
     "metadata": {},
     "output_type": "display_data"
    }
   ],
   "source": [
    "# Valores numéricos\n",
    "valores = {\n",
    "    Ra1: 63.7e3,\n",
    "    Ra2: 408,\n",
    "    Rb: 330,\n",
    "    R1: 70.2,\n",
    "    R41: 4.61e3,\n",
    "    R42: 169e3,\n",
    "    C3: 133e-9,\n",
    "    C22: 33e-9,\n",
    "    C21: 100e-9\n",
    "}\n",
    "\n",
    "SQ_Ra, SQ_R4, SQ_C2 =ss.symbols('S^{Q}_{R_{a}},S^{Q}_{R_{4}},S^{Q}_{C_{2}}')\n",
    "SQ_Ra = SQ_Ra1.evalf(subs=valores) + SQ_Ra2.evalf(subs=valores)\n",
    "SQ_R4 = SQ_R41.evalf(subs=valores) + SQ_R42.evalf(subs=valores)\n",
    "SQ_C2 = SQ_C21.evalf(subs=valores) + SQ_C22.evalf(subs=valores)\n",
    "\n",
    "# Evaluar y mostrar sensibilidades de w_o (ahora Q_res)\n",
    "display(Math(r\"S^{Q}_{R_{a1}} = \" + latex(SQ_Ra1.evalf(subs=valores))))\n",
    "display(Math(r\"S^{Q}_{R_{a2}} = \" + latex(SQ_Ra2.evalf(subs=valores))))\n",
    "display(Math(r\"S^{Q}_{R_{a}} = \" + latex(SQ_Ra)))\n",
    "display(Math(r\"S^{Q}_{R_{b}} = \"  + latex(SQ_Rb.evalf(subs=valores))))\n",
    "display(Math(r\"S^{Q}_{R_{41}} = \" + latex(SQ_R41.evalf(subs=valores))))\n",
    "display(Math(r\"S^{Q}_{R_{42}} = \" + latex(SQ_R42.evalf(subs=valores))))\n",
    "display(Math(r\"S^{Q}_{R_{4}} = \" + latex(SQ_R4)))\n",
    "display(Math(r\"S^{Q}_{R_{1}} = \"  + latex(SQ_R1.evalf(subs=valores))))\n",
    "display(Math(r\"S^{Q}_{C_{21}} = \" + latex(SQ_C21.evalf(subs=valores))))\n",
    "display(Math(r\"S^{Q}_{C_{22}} = \" + latex(SQ_C22.evalf(subs=valores))))\n",
    "display(Math(r\"S^{Q}_{C_{2}} = \" + latex(SQ_C2)))\n",
    "display(Math(r\"S^{Q}_{C_{3}} = \"  + latex(SQ_C3.evalf(subs=valores))))\n",
    "\n",
    "Swo_Ra, Swo_R4, Swo_C2 =ss.symbols('S^{w_o}_{R_{a}}, S^{w_o}_{R_{4}}, S^{w_o}_{C_{2}}')\n",
    "Swo_Ra = Swo_Ra1.evalf(subs=valores) + Swo_Ra2.evalf(subs=valores)\n",
    "Swo_R4 = Swo_R41.evalf(subs=valores) + Swo_R42.evalf(subs=valores)\n",
    "Swo_C2 = Swo_C21.evalf(subs=valores) + Swo_C22.evalf(subs=valores)\n",
    "\n",
    "# Si querés también las de wo (frecuencia), y las tenés definidas como Swo_*, agregá un bloque igual:\n",
    "display(Math(r\"S^{\\omega_0}_{R_{a1}} = \" + latex(Swo_Ra1.evalf(subs=valores))))\n",
    "display(Math(r\"S^{\\omega_0}_{R_{a2}} = \" + latex(Swo_Ra2.evalf(subs=valores))))\n",
    "display(Math(r\"S^{\\omega_0}_{R_{a}} = \" + latex(Swo_Ra)))\n",
    "display(Math(r\"S^{\\omega_0}_{R_{b}} = \"  + latex(Swo_Rb.evalf(subs=valores))))\n",
    "display(Math(r\"S^{\\omega_0}_{R_{41}} = \" + latex(Swo_R41.evalf(subs=valores))))\n",
    "display(Math(r\"S^{\\omega_0}_{R_{42}} = \" + latex(Swo_R42.evalf(subs=valores))))\n",
    "display(Math(r\"S^{\\omega_0}_{R_{4}} = \" + latex(Swo_R4)))\n",
    "display(Math(r\"S^{\\omega_0}_{R_{1}} = \"  + latex(Swo_R1.evalf(subs=valores))))\n",
    "display(Math(r\"S^{\\omega_0}_{C_{21}} = \" + latex(Swo_C21.evalf(subs=valores))))\n",
    "display(Math(r\"S^{\\omega_0}_{C_{22}} = \" + latex(Swo_C22.evalf(subs=valores))))\n",
    "display(Math(r\"S^{\\omega_0}_{C_{2}} = \" + latex(Swo_C2)))\n",
    "display(Math(r\"S^{\\omega_0}_{C_{3}} = \"  + latex(Swo_C3.evalf(subs=valores))))\n",
    "\n",
    "\n"
   ]
  },
  {
   "cell_type": "markdown",
   "id": "f07361d7",
   "metadata": {},
   "source": [
    "Funcion de Transferencia del High-Pass"
   ]
  },
  {
   "cell_type": "code",
   "execution_count": 33,
   "id": "34c52067",
   "metadata": {},
   "outputs": [
    {
     "data": {
      "text/latex": [
       "$\\displaystyle n_2 = \\frac{C_{22} \\left(G_{b} + G_{a1} + G_{a2}\\right)}{G_{b} \\left(C_{21} + C_{22}\\right)} - \\frac{G_{a2}}{G_{b}}$"
      ],
      "text/plain": [
       "<IPython.core.display.Math object>"
      ]
     },
     "metadata": {},
     "output_type": "display_data"
    },
    {
     "data": {
      "text/latex": [
       "$\\displaystyle n_0 = \\frac{G_{1} \\left(G_{41} + G_{42}\\right) \\left(\\frac{G_{42} \\left(G_{b} + G_{a1} + G_{a2}\\right)}{G_{b} \\left(G_{41} + G_{42}\\right)} - \\frac{G_{a2}}{G_{b}}\\right)}{C_{3} \\left(C_{21} + C_{22}\\right)}$"
      ],
      "text/plain": [
       "<IPython.core.display.Math object>"
      ]
     },
     "metadata": {},
     "output_type": "display_data"
    },
    {
     "data": {
      "text/latex": [
       "$\\displaystyle T(s) = \\frac{\\left(\\omega_{z}^{2} + s^{2}\\right) \\left(\\frac{C_{22} \\left(G_{b} + G_{a1} + G_{a2}\\right)}{G_{b} \\left(C_{21} + C_{22}\\right)} - \\frac{G_{a2}}{G_{b}}\\right)}{s^{2} + \\frac{s}{- \\frac{G_{1} \\left(G_{a1} + G_{a2}\\right)}{G_{b} \\left(C_{21} + C_{22}\\right)} + \\left(G_{41} + G_{42}\\right) \\left(\\frac{1}{C_{21} + C_{22}} + \\frac{1}{C_{3}}\\right)} + \\frac{G_{1} \\left(G_{41} + G_{42}\\right)}{C_{3} \\left(C_{21} + C_{22}\\right)}}$"
      ],
      "text/plain": [
       "<IPython.core.display.Math object>"
      ]
     },
     "metadata": {},
     "output_type": "display_data"
    }
   ],
   "source": [
    "n2, n0,s = ss.symbols('n_2,n_0,s')\n",
    "T ,wz= ss.symbols(r'T,\\omega_z')\n",
    "\n",
    "n2 = ((Ga1+Ga2+Gb)/Gb)*(C22/(C21+ C22))-(Ga2/Gb)\n",
    "n0 =(G1*(G42+G41))/(C3*(C21 + C22))*((G42/(G41+G42))*((Ga1+Ga2+Gb)/Gb)-(Ga2/Gb))\n",
    "T = (n2*(s**2 + wz**2))/(s**2 + s*(wo/Q) + wo**2) \n",
    "\n",
    "display(Math(\"n_2 = \" + latex(n2)))\n",
    "display(Math(\"n_0 = \" + latex(n0)))\n",
    "display(Math(\"T(s) = \" + latex(T)))"
   ]
  },
  {
   "cell_type": "code",
   "execution_count": null,
   "id": "9e2c6e81",
   "metadata": {},
   "outputs": [],
   "source": [
    "import sympy as sp\n",
    "\n",
    "# Declarar las variables\n",
    "s, w, wz, wo, Q, n2 = sp.symbols('s w wz wo Q n2', real=True)\n",
    "j = sp.I  # Unidad imaginaria\n",
    "\n",
    "# Expresión original de T(s)\n",
    "T = (n2 * (s**2 + wz**2)) / (s**2 + s*(wo/Q) + wo**2)\n",
    "\n",
    "# Sustituir s = j*w\n",
    "T_jw = T.subs(s, j*w)\n",
    "\n",
    "# Módulo de T(jw)\n",
    "modulo_T = sp.simplify(sp.Abs(T_jw))\n",
    "\n",
    "# Mostrar el resultado en LaTeX\n",
    "from IPython.display import display, Math, latex\n",
    "display(Math(r\"|T(j\\omega)| = \" + latex(modulo_T)))\n"
   ]
  },
  {
   "cell_type": "code",
   "execution_count": 55,
   "id": "7877667e",
   "metadata": {},
   "outputs": [
    {
     "data": {
      "text/latex": [
       "$\\displaystyle T(s) = - \\frac{0.358732295694449 \\left(s^{2} + 100.0\\right)}{s^{2} - 1.19284376151402 \\cdot 10^{-5} s + 179451343.044671}$"
      ],
      "text/plain": [
       "<IPython.core.display.Math object>"
      ]
     },
     "metadata": {},
     "output_type": "display_data"
    }
   ],
   "source": [
    "subs_T= {\n",
    "    G1: 1 / R1,\n",
    "    G41: 1 / R41,\n",
    "    G42: 1 / R42,\n",
    "    Ga1: 1 / Ra1,\n",
    "    Ga2: 1 / Ra2,\n",
    "    Gb: 1 / Rb,\n",
    "}\n",
    "\n",
    "T_res = T.subs(subs_T).simplify()\n",
    "\n",
    "#Agarra la lista de valores y agrega wz\n",
    "valores_completos = {**valores, wz: 10}\n",
    "\n",
    "\n",
    "display(Math(\"T(s) = \"  + latex(T_res.evalf(subs=valores_completos))))\n",
    "\n"
   ]
  }
 ],
 "metadata": {
  "kernelspec": {
   "display_name": ".venv",
   "language": "python",
   "name": "python3"
  },
  "language_info": {
   "codemirror_mode": {
    "name": "ipython",
    "version": 3
   },
   "file_extension": ".py",
   "mimetype": "text/x-python",
   "name": "python",
   "nbconvert_exporter": "python",
   "pygments_lexer": "ipython3",
   "version": "3.13.3"
  }
 },
 "nbformat": 4,
 "nbformat_minor": 5
}
